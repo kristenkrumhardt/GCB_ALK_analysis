{
 "cells": [
  {
   "cell_type": "code",
   "execution_count": 1,
   "metadata": {},
   "outputs": [],
   "source": [
    "%matplotlib inline\n",
    "import os\n",
    "from glob import glob\n",
    "from collections import OrderedDict\n",
    "import xarray as xr\n",
    "import numpy as np\n",
    "# import dask\n",
    "# import dask.distributed\n",
    "# import ncar_jobqueue\n",
    "import esmlab\n",
    "import esmlab_regrid\n",
    "import matplotlib.pyplot as plt\n",
    "import cartopy\n",
    "import cartopy.crs as ccrs\n",
    "from netCDF4 import default_fillvals\n",
    "import pop_tools \n",
    "\n",
    "import config\n",
    "\n",
    "import warnings\n",
    "from datetime import date, datetime, timezone"
   ]
  },
  {
   "cell_type": "markdown",
   "metadata": {},
   "source": [
    "### This notebook interpolates GLODAP data onto the same vertical levels as POP\n",
    "### It leaves lateral grid the same (360 x 180)\n",
    "### USE analysis2 environment!\n",
    "### Prep work\n",
    "set up directory with original and destination grid files in it"
   ]
  },
  {
   "cell_type": "code",
   "execution_count": 2,
   "metadata": {},
   "outputs": [
    {
     "data": {
      "text/plain": [
       "'/glade/work/kristenk/esmlab-regrid'"
      ]
     },
     "execution_count": 2,
     "metadata": {},
     "output_type": "execute_result"
    }
   ],
   "source": [
    "USER = os.environ['USER']\n",
    "gridfile_directory = esmlab.config.set({'regrid.gridfile-directory': f'/glade/work/{USER}/esmlab-regrid'})\n",
    "esmlab.config.get('regrid.gridfile-directory')"
   ]
  },
  {
   "cell_type": "code",
   "execution_count": 3,
   "metadata": {},
   "outputs": [
    {
     "name": "stdout",
     "output_type": "stream",
     "text": [
      "/glade/work/kristenk/esmlab-regrid\n",
      "/glade/work/kristenk/esmlab-regrid\n"
     ]
    }
   ],
   "source": [
    "method = 'conservative'\n",
    "src_grid = 'latlon_1x1_180W'\n",
    "dst_grid = 'POP_gx1v7'\n",
    "ltripole = False\n",
    "\n",
    "regrid_operator = esmlab_regrid.regridder(name_grid_src=src_grid, \n",
    "                                          name_grid_dst=dst_grid, \n",
    "                                          method=method, overwrite_existing=False)"
   ]
  },
  {
   "cell_type": "code",
   "execution_count": 4,
   "metadata": {},
   "outputs": [
    {
     "data": {
      "text/plain": [
       "<xarray.Dataset>\n",
       "Dimensions:      (nlat: 384, nlon: 320, z_t: 60, z_w: 60, z_w_bot: 60)\n",
       "Coordinates:\n",
       "  * z_t          (z_t) float64 500.0 1.5e+03 2.5e+03 ... 5.125e+05 5.375e+05\n",
       "  * z_w          (z_w) float64 0.0 1e+03 2e+03 3e+03 ... 4.75e+05 5e+05 5.25e+05\n",
       "  * z_w_bot      (z_w_bot) float64 1e+03 2e+03 3e+03 ... 5e+05 5.25e+05 5.5e+05\n",
       "Dimensions without coordinates: nlat, nlon\n",
       "Data variables:\n",
       "    TLAT         (nlat, nlon) float64 -79.22 -79.22 -79.22 ... 72.2 72.19 72.19\n",
       "    TLONG        (nlat, nlon) float64 320.6 321.7 322.8 ... 318.9 319.4 319.8\n",
       "    ULAT         (nlat, nlon) float64 -78.95 -78.95 -78.95 ... 72.42 72.41 72.41\n",
       "    ULONG        (nlat, nlon) float64 321.1 322.3 323.4 ... 319.2 319.6 320.0\n",
       "    DXT          (nlat, nlon) float64 2.339e+06 2.339e+06 ... 1.473e+06\n",
       "    DYT          (nlat, nlon) float64 5.94e+06 5.94e+06 ... 5.046e+06 5.046e+06\n",
       "    TAREA        (nlat, nlon) float64 1.39e+13 1.39e+13 ... 7.431e+12 7.432e+12\n",
       "    KMT          (nlat, nlon) int32 0 0 0 0 0 0 0 0 0 0 ... 0 0 0 0 0 0 0 0 0 0\n",
       "    REGION_MASK  (nlat, nlon) int32 0 0 0 0 0 0 0 0 0 0 ... 0 0 0 0 0 0 0 0 0 0\n",
       "    dz           (z_t) float64 1e+03 1e+03 1e+03 ... 2.499e+04 2.5e+04 2.5e+04\n",
       "Attributes:\n",
       "    lateral_dims:         [384, 320]\n",
       "    vertical_dims:        60\n",
       "    vert_grid_file:       /glade/work/kristenk/miniconda/envs/analysis2/lib/p...\n",
       "    horiz_grid_fname:     /glade/p/cesmdata/cseg/inputdata/ocn/pop/gx1v7/grid...\n",
       "    topography_fname:     /glade/p/cesmdata/cseg/inputdata/ocn/pop/gx1v7/grid...\n",
       "    region_mask_fname:    /glade/p/cesmdata/cseg/inputdata/ocn/pop/gx1v7/grid...\n",
       "    type:                 dipole\n",
       "    region_mask_regions:  {'Black Sea': -13, 'Baltic Sea': -12, 'Red Sea': -5...\n",
       "    title:                POP_gx1v7 grid"
      ]
     },
     "execution_count": 4,
     "metadata": {},
     "output_type": "execute_result"
    }
   ],
   "source": [
    "ds_dst = pop_tools.get_grid(grid_name=dst_grid)\n",
    "ds_dst"
   ]
  },
  {
   "cell_type": "markdown",
   "metadata": {},
   "source": [
    "### Define a dictionary to translate variable names from GLODAP to POP and set up file paths"
   ]
  },
  {
   "cell_type": "markdown",
   "metadata": {},
   "source": [
    "### Use the function to get GLODAP data"
   ]
  },
  {
   "cell_type": "code",
   "execution_count": 5,
   "metadata": {},
   "outputs": [
    {
     "data": {
      "text/plain": [
       "<xarray.Dataset>\n",
       "Dimensions:                 (depth: 33, lat: 180, lon: 360)\n",
       "Coordinates:\n",
       "  * lon                     (lon) float64 -179.5 -178.5 -177.5 ... 178.5 179.5\n",
       "  * lat                     (lat) float64 -89.5 -88.5 -87.5 ... 87.5 88.5 89.5\n",
       "  * depth                   (depth) float64 0.0 10.0 20.0 ... 5e+03 5.5e+03\n",
       "Data variables:\n",
       "    Cant                    (depth, lat, lon) float32 dask.array<shape=(33, 180, 360), chunksize=(33, 180, 360)>\n",
       "    CantInput_mean          (depth, lat, lon) float32 dask.array<shape=(33, 180, 360), chunksize=(33, 180, 360)>\n",
       "    NO3                     (depth, lat, lon) float32 dask.array<shape=(33, 180, 360), chunksize=(33, 180, 360)>\n",
       "    NO3Input_mean           (depth, lat, lon) float32 dask.array<shape=(33, 180, 360), chunksize=(33, 180, 360)>\n",
       "    OmegaA                  (depth, lat, lon) float32 dask.array<shape=(33, 180, 360), chunksize=(33, 180, 360)>\n",
       "    OmegaAInput_mean        (depth, lat, lon) float32 dask.array<shape=(33, 180, 360), chunksize=(33, 180, 360)>\n",
       "    OmegaC                  (depth, lat, lon) float32 dask.array<shape=(33, 180, 360), chunksize=(33, 180, 360)>\n",
       "    OmegaCInput_mean        (depth, lat, lon) float32 dask.array<shape=(33, 180, 360), chunksize=(33, 180, 360)>\n",
       "    PI_TCO2                 (depth, lat, lon) float32 dask.array<shape=(33, 180, 360), chunksize=(33, 180, 360)>\n",
       "    PI_TCO2Input_mean       (depth, lat, lon) float32 dask.array<shape=(33, 180, 360), chunksize=(33, 180, 360)>\n",
       "    PO4                     (depth, lat, lon) float32 dask.array<shape=(33, 180, 360), chunksize=(33, 180, 360)>\n",
       "    PO4Input_mean           (depth, lat, lon) float32 dask.array<shape=(33, 180, 360), chunksize=(33, 180, 360)>\n",
       "    TAlk                    (depth, lat, lon) float32 dask.array<shape=(33, 180, 360), chunksize=(33, 180, 360)>\n",
       "    TAlkInput_mean          (depth, lat, lon) float32 dask.array<shape=(33, 180, 360), chunksize=(33, 180, 360)>\n",
       "    TCO2                    (depth, lat, lon) float32 dask.array<shape=(33, 180, 360), chunksize=(33, 180, 360)>\n",
       "    TCO2Input_mean          (depth, lat, lon) float32 dask.array<shape=(33, 180, 360), chunksize=(33, 180, 360)>\n",
       "    oxygen                  (depth, lat, lon) float32 dask.array<shape=(33, 180, 360), chunksize=(33, 180, 360)>\n",
       "    oxygenInput_mean        (depth, lat, lon) float32 dask.array<shape=(33, 180, 360), chunksize=(33, 180, 360)>\n",
       "    pHts25p0                (depth, lat, lon) float32 dask.array<shape=(33, 180, 360), chunksize=(33, 180, 360)>\n",
       "    pHts25p0Input_mean      (depth, lat, lon) float32 dask.array<shape=(33, 180, 360), chunksize=(33, 180, 360)>\n",
       "    pHtsinsitutp            (depth, lat, lon) float32 dask.array<shape=(33, 180, 360), chunksize=(33, 180, 360)>\n",
       "    pHtsinsitutpInput_mean  (depth, lat, lon) float32 dask.array<shape=(33, 180, 360), chunksize=(33, 180, 360)>\n",
       "    salinity                (depth, lat, lon) float32 dask.array<shape=(33, 180, 360), chunksize=(33, 180, 360)>\n",
       "    salinityInput_mean      (depth, lat, lon) float32 dask.array<shape=(33, 180, 360), chunksize=(33, 180, 360)>\n",
       "    silicate                (depth, lat, lon) float32 dask.array<shape=(33, 180, 360), chunksize=(33, 180, 360)>\n",
       "    silicateInput_mean      (depth, lat, lon) float32 dask.array<shape=(33, 180, 360), chunksize=(33, 180, 360)>\n",
       "    temperature             (depth, lat, lon) float32 dask.array<shape=(33, 180, 360), chunksize=(33, 180, 360)>\n",
       "    temperatureInput_mean   (depth, lat, lon) float32 dask.array<shape=(33, 180, 360), chunksize=(33, 180, 360)>\n",
       "Attributes:\n",
       "    Conventions:  COARDS/CF-1.0\n",
       "    title:        tmp2.nc\n",
       "    history:      grdmath tmp2.nc land_mask1deg.nc OR = CESM1-BGC_Jan1850_tos.nc\n",
       "    GMT_version:  4.5.12 [64-bit]\n",
       "    node_offset:  1"
      ]
     },
     "execution_count": 5,
     "metadata": {},
     "output_type": "execute_result"
    }
   ],
   "source": [
    "ds_glodap = xr.open_mfdataset('/glade/work/kristenk/GLODAPv2_regridded/*.nc',decode_times=False,decode_coords=False)\n",
    "ds_glodap = ds_glodap.rename({'depth_surface': 'depth'})\n",
    "ds_glodap"
   ]
  },
  {
   "cell_type": "code",
   "execution_count": 6,
   "metadata": {},
   "outputs": [],
   "source": [
    "varlist = ['TAlk','TAlkInput_mean','NO3','NO3Input_mean','salinity','salinityInput_mean']"
   ]
  },
  {
   "cell_type": "code",
   "execution_count": 7,
   "metadata": {},
   "outputs": [],
   "source": [
    "ds_glodap.depth.data = ds_glodap.depth.data * 1e2\n",
    "ds_glodap.depth.attrs['units'] = 'cm'"
   ]
  },
  {
   "cell_type": "code",
   "execution_count": 9,
   "metadata": {},
   "outputs": [
    {
     "data": {
      "text/plain": [
       "<xarray.DataArray 'z_t' (z_t: 60)>\n",
       "array([5.000000e+02, 1.500000e+03, 2.500000e+03, 3.500000e+03, 4.500000e+03,\n",
       "       5.500000e+03, 6.500000e+03, 7.500000e+03, 8.500000e+03, 9.500000e+03,\n",
       "       1.050000e+04, 1.150000e+04, 1.250000e+04, 1.350000e+04, 1.450000e+04,\n",
       "       1.550000e+04, 1.650984e+04, 1.754790e+04, 1.862913e+04, 1.976603e+04,\n",
       "       2.097114e+04, 2.225783e+04, 2.364088e+04, 2.513702e+04, 2.676542e+04,\n",
       "       2.854837e+04, 3.051192e+04, 3.268680e+04, 3.510935e+04, 3.782276e+04,\n",
       "       4.087847e+04, 4.433777e+04, 4.827367e+04, 5.277280e+04, 5.793729e+04,\n",
       "       6.388626e+04, 7.075633e+04, 7.870025e+04, 8.788252e+04, 9.847059e+04,\n",
       "       1.106204e+05, 1.244567e+05, 1.400497e+05, 1.573946e+05, 1.764003e+05,\n",
       "       1.968944e+05, 2.186457e+05, 2.413972e+05, 2.649001e+05, 2.889385e+05,\n",
       "       3.133405e+05, 3.379794e+05, 3.627670e+05, 3.876452e+05, 4.125768e+05,\n",
       "       4.375393e+05, 4.625190e+05, 4.875083e+05, 5.125028e+05, 5.375000e+05])\n",
       "Coordinates:\n",
       "  * z_t      (z_t) float64 500.0 1.5e+03 2.5e+03 ... 5.125e+05 5.375e+05\n",
       "Attributes:\n",
       "    units:      cm\n",
       "    long_name:  depth from surface to midpoint of layer\n",
       "    positive:   down"
      ]
     },
     "execution_count": 9,
     "metadata": {},
     "output_type": "execute_result"
    }
   ],
   "source": [
    "ds_dst.z_t"
   ]
  },
  {
   "cell_type": "markdown",
   "metadata": {},
   "source": [
    "### Regrid vertically"
   ]
  },
  {
   "cell_type": "code",
   "execution_count": 10,
   "metadata": {},
   "outputs": [
    {
     "data": {
      "text/plain": [
       "<xarray.Dataset>\n",
       "Dimensions:             (lat: 180, lon: 360, z_t: 60)\n",
       "Coordinates:\n",
       "  * lon                 (lon) float64 -179.5 -178.5 -177.5 ... 177.5 178.5 179.5\n",
       "  * lat                 (lat) float64 -89.5 -88.5 -87.5 -86.5 ... 87.5 88.5 89.5\n",
       "  * z_t                 (z_t) float64 500.0 1.5e+03 ... 5.125e+05 5.375e+05\n",
       "Data variables:\n",
       "    TAlk                (z_t, lat, lon) float32 dask.array<shape=(60, 180, 360), chunksize=(60, 180, 360)>\n",
       "    TAlkInput_mean      (z_t, lat, lon) float32 dask.array<shape=(60, 180, 360), chunksize=(60, 180, 360)>\n",
       "    NO3                 (z_t, lat, lon) float32 dask.array<shape=(60, 180, 360), chunksize=(60, 180, 360)>\n",
       "    NO3Input_mean       (z_t, lat, lon) float32 dask.array<shape=(60, 180, 360), chunksize=(60, 180, 360)>\n",
       "    salinity            (z_t, lat, lon) float32 dask.array<shape=(60, 180, 360), chunksize=(60, 180, 360)>\n",
       "    salinityInput_mean  (z_t, lat, lon) float32 dask.array<shape=(60, 180, 360), chunksize=(60, 180, 360)>"
      ]
     },
     "execution_count": 10,
     "metadata": {},
     "output_type": "execute_result"
    }
   ],
   "source": [
    "dso_vert = xr.Dataset()\n",
    "\n",
    "dim = 'depth'\n",
    "new_coord = ds_dst.z_t\n",
    "for v in varlist:\n",
    "    da = ds_glodap[v]\n",
    "    dso_vert[v] = da.interp(coords={dim: new_coord},\n",
    "                                method='linear',\n",
    "                                assume_sorted=True,\n",
    "                                kwargs={'bounds_error': False})\n",
    "    dso_vert[v] = xr.where(np.isclose(dso_vert[v], 0., atol=1e-10), 0., \n",
    "                               dso_vert[v])\n",
    "    dso_vert[v].attrs = ds_glodap[v].attrs\n",
    "    \n",
    "dso_vert = dso_vert.drop([dim])\n",
    "dso_vert"
   ]
  },
  {
   "cell_type": "code",
   "execution_count": 12,
   "metadata": {},
   "outputs": [
    {
     "data": {
      "text/plain": [
       "<matplotlib.collections.QuadMesh at 0x2b395ca66c18>"
      ]
     },
     "execution_count": 12,
     "metadata": {},
     "output_type": "execute_result"
    },
    {
     "data": {
      "image/png": "[encoded data removed]",
      "text/plain": [
       "<Figure size 432x288 with 2 Axes>"
      ]
     },
     "metadata": {
      "needs_background": "light"
     },
     "output_type": "display_data"
    }
   ],
   "source": [
    "dso_vert.TAlk.isel(z_t=0).plot()"
   ]
  },
  {
   "cell_type": "markdown",
   "metadata": {},
   "source": [
    "### Get the dataset ready to write out"
   ]
  },
  {
   "cell_type": "code",
   "execution_count": 13,
   "metadata": {},
   "outputs": [
    {
     "data": {
      "text/plain": [
       "<xarray.Dataset>\n",
       "Dimensions:             (lat: 180, lon: 360, z_t: 60)\n",
       "Coordinates:\n",
       "  * lon                 (lon) float64 -179.5 -178.5 -177.5 ... 177.5 178.5 179.5\n",
       "  * lat                 (lat) float64 -89.5 -88.5 -87.5 -86.5 ... 87.5 88.5 89.5\n",
       "  * z_t                 (z_t) float64 500.0 1.5e+03 ... 5.125e+05 5.375e+05\n",
       "Data variables:\n",
       "    TAlk                (z_t, lat, lon) float32 dask.array<shape=(60, 180, 360), chunksize=(60, 180, 360)>\n",
       "    TAlkInput_mean      (z_t, lat, lon) float32 dask.array<shape=(60, 180, 360), chunksize=(60, 180, 360)>\n",
       "    NO3                 (z_t, lat, lon) float32 dask.array<shape=(60, 180, 360), chunksize=(60, 180, 360)>\n",
       "    NO3Input_mean       (z_t, lat, lon) float32 dask.array<shape=(60, 180, 360), chunksize=(60, 180, 360)>\n",
       "    salinity            (z_t, lat, lon) float32 dask.array<shape=(60, 180, 360), chunksize=(60, 180, 360)>\n",
       "    salinityInput_mean  (z_t, lat, lon) float32 dask.array<shape=(60, 180, 360), chunksize=(60, 180, 360)>\n",
       "Attributes:\n",
       "    history:  created by kristen krumhardt on 2020-05-27"
      ]
     },
     "execution_count": 13,
     "metadata": {},
     "output_type": "execute_result"
    }
   ],
   "source": [
    "#dso = dso_smooth.copy()\n",
    "dso = dso_vert.copy()\n",
    "for v in dso.variables:\n",
    "    dso[v].encoding['_FillValue'] = default_fillvals['f4']\n",
    "    dso[v].encoding['dtype'] = np.float32\n",
    "    \n",
    "for v in dso.variables:\n",
    "    if '_FillValue' not in dso[v].encoding:\n",
    "        dso[v].encoding['_FillValue'] = None\n",
    "    \n",
    "datestamp = datetime.now(timezone.utc).strftime(\"%Y-%m-%d\")\n",
    "dso.attrs['history'] = f'created by kristen krumhardt on {datestamp}'\n",
    "\n",
    "datestamp = date.today().strftime(\"%y%m%d\")\n",
    "dso"
   ]
  },
  {
   "cell_type": "code",
   "execution_count": 14,
   "metadata": {},
   "outputs": [],
   "source": [
    "file_out = '/glade/work/kristenk/GLODAPv2_regridded/glodap_pop_vert_levels/GLODAPv2_POP_z_t.nc'\n",
    "dso.to_netcdf(file_out)"
   ]
  },
  {
   "cell_type": "code",
   "execution_count": null,
   "metadata": {},
   "outputs": [],
   "source": []
  }
 ],
 "metadata": {
  "kernelspec": {
   "display_name": "Python [conda env:miniconda-analysis2]",
   "language": "python",
   "name": "conda-env-miniconda-analysis2-py"
  },
  "language_info": {
   "codemirror_mode": {
    "name": "ipython",
    "version": 3
   },
   "file_extension": ".py",
   "mimetype": "text/x-python",
   "name": "python",
   "nbconvert_exporter": "python",
   "pygments_lexer": "ipython3",
   "version": "3.7.3"
  }
 },
 "nbformat": 4,
 "nbformat_minor": 4
}
