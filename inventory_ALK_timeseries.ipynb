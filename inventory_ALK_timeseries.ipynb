{
 "cells": [
  {
   "cell_type": "code",
   "execution_count": 1,
   "metadata": {},
   "outputs": [],
   "source": [
    "import warnings\n",
    "warnings.filterwarnings('ignore')\n",
    "%matplotlib inline\n",
    "import os\n",
    "from glob import glob\n",
    "from collections import OrderedDict\n",
    "import xarray as xr\n",
    "import numpy as np\n",
    "import esmlab\n",
    "import matplotlib.pyplot as plt\n",
    "import matplotlib.gridspec as gridspec\n",
    "import cartopy\n",
    "import cartopy.crs as ccrs\n",
    "import seawater as sw\n",
    "from seawater.library import T90conv\n",
    "from scipy import stats\n",
    "\n",
    "import ncar_jobqueue\n",
    "from dask.distributed import Client"
   ]
  },
  {
   "cell_type": "markdown",
   "metadata": {},
   "source": [
    "Note: this notebook uses annual means for all 5 IAFs.\n",
    "\n",
    "These means were made using this notebook:\n",
    "/glade/u/home/kristenk/besome/alk-calc_transient_response/make_annual_mean_tseries.ipynb"
   ]
  },
  {
   "cell_type": "markdown",
   "metadata": {},
   "source": [
    "### get ALK control"
   ]
  },
  {
   "cell_type": "code",
   "execution_count": 2,
   "metadata": {},
   "outputs": [],
   "source": [
    "case='cesm22cocco.G1850ECOIAF.T62_g17.003'"
   ]
  },
  {
   "cell_type": "code",
   "execution_count": 3,
   "metadata": {},
   "outputs": [],
   "source": [
    "file='/glade/scratch/kristenk/archive/'+case+'/ocn/proc/tseries/year_1/'+case+'.annual.ALK.0001-0062.nc'\n",
    "ds_1 = xr.open_dataset(file,decode_times=False,decode_coords=False)"
   ]
  },
  {
   "cell_type": "code",
   "execution_count": 4,
   "metadata": {},
   "outputs": [],
   "source": [
    "file='/glade/scratch/kristenk/archive/'+case+'/ocn/proc/tseries/year_1/'+case+'.annual.ALK.0063-0124.nc'\n",
    "ds_2 = xr.open_dataset(file,decode_times=False,decode_coords=False)"
   ]
  },
  {
   "cell_type": "code",
   "execution_count": 5,
   "metadata": {},
   "outputs": [],
   "source": [
    "file='/glade/scratch/kristenk/archive/'+case+'/ocn/proc/tseries/year_1/'+case+'.annual.ALK.0125-0186.nc'\n",
    "ds_3 = xr.open_dataset(file,decode_times=False,decode_coords=False)"
   ]
  },
  {
   "cell_type": "code",
   "execution_count": 6,
   "metadata": {},
   "outputs": [],
   "source": [
    "file='/glade/scratch/kristenk/archive/'+case+'/ocn/proc/tseries/year_1/'+case+'.annual.ALK.0187-0248.nc'\n",
    "ds_4 = xr.open_dataset(file,decode_times=False,decode_coords=False)"
   ]
  },
  {
   "cell_type": "code",
   "execution_count": 7,
   "metadata": {},
   "outputs": [],
   "source": [
    "file='/glade/scratch/kristenk/archive/'+case+'/ocn/proc/tseries/year_1/'+case+'.annual.ALK.0249-0310.nc'\n",
    "ds_5 = xr.open_dataset(file,decode_times=False,decode_coords=False)"
   ]
  },
  {
   "cell_type": "code",
   "execution_count": 8,
   "metadata": {},
   "outputs": [],
   "source": [
    "ds_alk = xr.concat([ds_1, ds_2, ds_3, ds_4, ds_5], 'time')"
   ]
  },
  {
   "cell_type": "markdown",
   "metadata": {},
   "source": [
    "### get ALK noGCB"
   ]
  },
  {
   "cell_type": "code",
   "execution_count": 9,
   "metadata": {},
   "outputs": [],
   "source": [
    "file='/glade/scratch/kristenk/archive/'+case+'/ocn/proc/tseries/year_1/'+case+'.annual.ALK_ALT_CO2.0001-0062.nc'\n",
    "ds_1 = xr.open_dataset(file,decode_times=False,decode_coords=False)"
   ]
  },
  {
   "cell_type": "code",
   "execution_count": 10,
   "metadata": {},
   "outputs": [],
   "source": [
    "file='/glade/scratch/kristenk/archive/'+case+'/ocn/proc/tseries/year_1/'+case+'.annual.ALK_ALT_CO2.0063-0124.nc'\n",
    "ds_2 = xr.open_dataset(file,decode_times=False,decode_coords=False)"
   ]
  },
  {
   "cell_type": "code",
   "execution_count": 11,
   "metadata": {},
   "outputs": [],
   "source": [
    "file='/glade/scratch/kristenk/archive/'+case+'/ocn/proc/tseries/year_1/'+case+'.annual.ALK_ALT_CO2.0125-0186.nc'\n",
    "ds_3 = xr.open_dataset(file,decode_times=False,decode_coords=False)"
   ]
  },
  {
   "cell_type": "code",
   "execution_count": 12,
   "metadata": {},
   "outputs": [],
   "source": [
    "file='/glade/scratch/kristenk/archive/'+case+'/ocn/proc/tseries/year_1/'+case+'.annual.ALK_ALT_CO2.0187-0248.nc'\n",
    "ds_4 = xr.open_dataset(file,decode_times=False,decode_coords=False)"
   ]
  },
  {
   "cell_type": "code",
   "execution_count": 13,
   "metadata": {},
   "outputs": [],
   "source": [
    "file='/glade/scratch/kristenk/archive/'+case+'/ocn/proc/tseries/year_1/'+case+'.annual.ALK_ALT_CO2.0249-0310.nc'\n",
    "ds_5 = xr.open_dataset(file,decode_times=False,decode_coords=False)"
   ]
  },
  {
   "cell_type": "code",
   "execution_count": 14,
   "metadata": {},
   "outputs": [],
   "source": [
    "ds_alk_noGCB = xr.concat([ds_1, ds_2, ds_3, ds_4, ds_5], 'time')"
   ]
  },
  {
   "cell_type": "markdown",
   "metadata": {},
   "source": [
    "### get ALK with 2x GCB"
   ]
  },
  {
   "cell_type": "code",
   "execution_count": 15,
   "metadata": {},
   "outputs": [],
   "source": [
    "case='cesm22cocco.G1850ECOIAF.T62_g17.004'"
   ]
  },
  {
   "cell_type": "code",
   "execution_count": 16,
   "metadata": {},
   "outputs": [],
   "source": [
    "file='/glade/scratch/kristenk/archive/'+case+'/ocn/proc/tseries/year_1/'+case+'.annual.ALK_ALT_CO2.0001-0062.nc'\n",
    "ds_1 = xr.open_dataset(file,decode_times=False,decode_coords=False)"
   ]
  },
  {
   "cell_type": "code",
   "execution_count": 17,
   "metadata": {},
   "outputs": [],
   "source": [
    "file='/glade/scratch/kristenk/archive/'+case+'/ocn/proc/tseries/year_1/'+case+'.annual.ALK_ALT_CO2.0063-0124.nc'\n",
    "ds_2 = xr.open_dataset(file,decode_times=False,decode_coords=False)"
   ]
  },
  {
   "cell_type": "code",
   "execution_count": 18,
   "metadata": {},
   "outputs": [],
   "source": [
    "file='/glade/scratch/kristenk/archive/'+case+'/ocn/proc/tseries/year_1/'+case+'.annual.ALK_ALT_CO2.0125-0186.nc'\n",
    "ds_3 = xr.open_dataset(file,decode_times=False,decode_coords=False)"
   ]
  },
  {
   "cell_type": "code",
   "execution_count": 19,
   "metadata": {},
   "outputs": [],
   "source": [
    "file='/glade/scratch/kristenk/archive/'+case+'/ocn/proc/tseries/year_1/'+case+'.annual.ALK_ALT_CO2.0187-0248.nc'\n",
    "ds_4 = xr.open_dataset(file,decode_times=False,decode_coords=False)"
   ]
  },
  {
   "cell_type": "code",
   "execution_count": 20,
   "metadata": {},
   "outputs": [],
   "source": [
    "file='/glade/scratch/kristenk/archive/'+case+'/ocn/proc/tseries/year_1/'+case+'.annual.ALK_ALT_CO2.0249-0310.nc'\n",
    "ds_5 = xr.open_dataset(file,decode_times=False,decode_coords=False)"
   ]
  },
  {
   "cell_type": "code",
   "execution_count": 21,
   "metadata": {},
   "outputs": [],
   "source": [
    "ds_alk_2xGCB = xr.concat([ds_1, ds_2, ds_3, ds_4, ds_5], 'time')"
   ]
  },
  {
   "cell_type": "markdown",
   "metadata": {},
   "source": [
    "### get ALK with 100m dissolution length scale"
   ]
  },
  {
   "cell_type": "code",
   "execution_count": 22,
   "metadata": {},
   "outputs": [],
   "source": [
    "case='cesm22cocco.G1850ECOIAF.T62_g17.009'"
   ]
  },
  {
   "cell_type": "code",
   "execution_count": 23,
   "metadata": {},
   "outputs": [],
   "source": [
    "file='/glade/scratch/kristenk/archive/'+case+'/ocn/proc/tseries/year_1/'+case+'.annual.ALK_ALT_CO2.0001-0062.nc'\n",
    "ds_1 = xr.open_dataset(file,decode_times=False,decode_coords=False)"
   ]
  },
  {
   "cell_type": "code",
   "execution_count": 24,
   "metadata": {},
   "outputs": [],
   "source": [
    "file='/glade/scratch/kristenk/archive/'+case+'/ocn/proc/tseries/year_1/'+case+'.annual.ALK_ALT_CO2.0063-0124.nc'\n",
    "ds_2 = xr.open_dataset(file,decode_times=False,decode_coords=False)"
   ]
  },
  {
   "cell_type": "code",
   "execution_count": 25,
   "metadata": {},
   "outputs": [],
   "source": [
    "file='/glade/scratch/kristenk/archive/'+case+'/ocn/proc/tseries/year_1/'+case+'.annual.ALK_ALT_CO2.0125-0186.nc'\n",
    "ds_3 = xr.open_dataset(file,decode_times=False,decode_coords=False)"
   ]
  },
  {
   "cell_type": "code",
   "execution_count": 26,
   "metadata": {},
   "outputs": [],
   "source": [
    "file='/glade/scratch/kristenk/archive/'+case+'/ocn/proc/tseries/year_1/'+case+'.annual.ALK_ALT_CO2.0187-0248.nc'\n",
    "ds_4 = xr.open_dataset(file,decode_times=False,decode_coords=False)"
   ]
  },
  {
   "cell_type": "code",
   "execution_count": 27,
   "metadata": {},
   "outputs": [],
   "source": [
    "file='/glade/scratch/kristenk/archive/'+case+'/ocn/proc/tseries/year_1/'+case+'.annual.ALK_ALT_CO2.0249-0310.nc'\n",
    "ds_5 = xr.open_dataset(file,decode_times=False,decode_coords=False)"
   ]
  },
  {
   "cell_type": "code",
   "execution_count": 28,
   "metadata": {},
   "outputs": [],
   "source": [
    "ds_alk_100mDLS = xr.concat([ds_1, ds_2, ds_3, ds_4, ds_5], 'time')"
   ]
  },
  {
   "cell_type": "markdown",
   "metadata": {},
   "source": [
    "### get ALK with 1000m dissolution "
   ]
  },
  {
   "cell_type": "code",
   "execution_count": 29,
   "metadata": {},
   "outputs": [],
   "source": [
    "case='cesm22cocco.G1850ECOIAF.T62_g17.010'"
   ]
  },
  {
   "cell_type": "code",
   "execution_count": 30,
   "metadata": {},
   "outputs": [],
   "source": [
    "file='/glade/scratch/kristenk/archive/'+case+'/ocn/proc/tseries/year_1/'+case+'.annual.ALK_ALT_CO2.0001-0062.nc'\n",
    "ds_1 = xr.open_dataset(file,decode_times=False,decode_coords=False)"
   ]
  },
  {
   "cell_type": "code",
   "execution_count": 31,
   "metadata": {},
   "outputs": [],
   "source": [
    "file='/glade/scratch/kristenk/archive/'+case+'/ocn/proc/tseries/year_1/'+case+'.annual.ALK_ALT_CO2.0063-0124.nc'\n",
    "ds_2 = xr.open_dataset(file,decode_times=False,decode_coords=False)"
   ]
  },
  {
   "cell_type": "code",
   "execution_count": 32,
   "metadata": {},
   "outputs": [],
   "source": [
    "file='/glade/scratch/kristenk/archive/'+case+'/ocn/proc/tseries/year_1/'+case+'.annual.ALK_ALT_CO2.0125-0186.nc'\n",
    "ds_3 = xr.open_dataset(file,decode_times=False,decode_coords=False)"
   ]
  },
  {
   "cell_type": "code",
   "execution_count": 33,
   "metadata": {},
   "outputs": [],
   "source": [
    "file='/glade/scratch/kristenk/archive/'+case+'/ocn/proc/tseries/year_1/'+case+'.annual.ALK_ALT_CO2.0187-0248.nc'\n",
    "ds_4 = xr.open_dataset(file,decode_times=False,decode_coords=False)"
   ]
  },
  {
   "cell_type": "code",
   "execution_count": 34,
   "metadata": {},
   "outputs": [],
   "source": [
    "file='/glade/scratch/kristenk/archive/'+case+'/ocn/proc/tseries/year_1/'+case+'.annual.ALK_ALT_CO2.0249-0310.nc'\n",
    "ds_5 = xr.open_dataset(file,decode_times=False,decode_coords=False)"
   ]
  },
  {
   "cell_type": "code",
   "execution_count": 35,
   "metadata": {},
   "outputs": [],
   "source": [
    "ds_alk_1000mDLS = xr.concat([ds_1, ds_2, ds_3, ds_4, ds_5], 'time')"
   ]
  },
  {
   "cell_type": "markdown",
   "metadata": {},
   "source": [
    "### Now we have everything we need"
   ]
  },
  {
   "cell_type": "code",
   "execution_count": 36,
   "metadata": {},
   "outputs": [],
   "source": [
    "file = '/glade/work/kristenk/WOA_data/regrid_POP/WOA2013_POPgrid.nc' \n",
    "ds_woa = xr.load_dataset(file, decode_times=False, decode_coords=False)\n",
    "ds_woa['z_t'] = ds_alk.z_t"
   ]
  },
  {
   "cell_type": "code",
   "execution_count": 37,
   "metadata": {},
   "outputs": [],
   "source": [
    "lons=ds_woa.TLONG\n",
    "lats=ds_woa.TLAT\n",
    "area=ds_woa.TAREA\n",
    "area_m=ds_woa.TAREA * 1e-4\n",
    "depths_m=ds_woa.z_t * 0.01\n",
    "dz=ds_woa.dz\n",
    "dz_m=ds_woa.dz * 0.01"
   ]
  },
  {
   "cell_type": "markdown",
   "metadata": {},
   "source": [
    "### Total up ALK control"
   ]
  },
  {
   "cell_type": "code",
   "execution_count": 38,
   "metadata": {},
   "outputs": [
    {
     "name": "stdout",
     "output_type": "stream",
     "text": [
      "CPU times: user 29.4 s, sys: 1min 25s, total: 1min 55s\n",
      "Wall time: 2min 56s\n"
     ]
    }
   ],
   "source": [
    "%%time\n",
    "glb_ALK_ts = esmlab.weighted_sum(ds_alk.ALK, weights=area_m, dim=['nlat', 'nlon']).compute()\n",
    "#dims: z_t, time\n",
    "glb_ALK_ts = esmlab.weighted_sum(glb_ALK_ts, weights=dz_m, dim=['z_t']).compute()\n",
    "#dims: time\n",
    "glb_ALK_ts = glb_ALK_ts * 0.001 * 1.e-15 #mmol to Pmol\n",
    "#glb_DIC_ts1 "
   ]
  },
  {
   "cell_type": "markdown",
   "metadata": {},
   "source": [
    "### Total up ALK noGCB"
   ]
  },
  {
   "cell_type": "code",
   "execution_count": 39,
   "metadata": {},
   "outputs": [
    {
     "name": "stdout",
     "output_type": "stream",
     "text": [
      "CPU times: user 28 s, sys: 59.2 s, total: 1min 27s\n",
      "Wall time: 2min 47s\n"
     ]
    }
   ],
   "source": [
    "%%time\n",
    "glb_ALK_noGCBts = esmlab.weighted_sum(ds_alk_noGCB.ALK_ALT_CO2, weights=area_m, dim=['nlat', 'nlon']).compute()\n",
    "#dims: z_t, time\n",
    "glb_ALK_noGCBts = esmlab.weighted_sum(glb_ALK_noGCBts, weights=dz_m, dim=['z_t']).compute()\n",
    "#dims: time\n",
    "glb_ALK_noGCBts = glb_ALK_noGCBts * 0.001 * 1.e-15 #mmol to Pmol\n",
    "#glb_DIC_ts1 "
   ]
  },
  {
   "cell_type": "markdown",
   "metadata": {},
   "source": [
    "### Total up ALK 2xGCB"
   ]
  },
  {
   "cell_type": "code",
   "execution_count": 40,
   "metadata": {},
   "outputs": [
    {
     "name": "stdout",
     "output_type": "stream",
     "text": [
      "CPU times: user 28.7 s, sys: 54.7 s, total: 1min 23s\n",
      "Wall time: 2min 42s\n"
     ]
    }
   ],
   "source": [
    "%%time\n",
    "glb_ALK_2xGCBts = esmlab.weighted_sum(ds_alk_2xGCB.ALK_ALT_CO2, weights=area_m, dim=['nlat', 'nlon']).compute()\n",
    "#dims: z_t, time\n",
    "glb_ALK_2xGCBts = esmlab.weighted_sum(glb_ALK_2xGCBts, weights=dz_m, dim=['z_t']).compute()\n",
    "#dims: time\n",
    "glb_ALK_2xGCBts = glb_ALK_2xGCBts * 0.001 * 1.e-15 #mmol to Pmol\n",
    "#glb_DIC_ts1 "
   ]
  },
  {
   "cell_type": "markdown",
   "metadata": {},
   "source": [
    "### Total up ALK 100m DLS"
   ]
  },
  {
   "cell_type": "code",
   "execution_count": 41,
   "metadata": {},
   "outputs": [
    {
     "name": "stdout",
     "output_type": "stream",
     "text": [
      "CPU times: user 28.7 s, sys: 58.4 s, total: 1min 27s\n",
      "Wall time: 2min 48s\n"
     ]
    }
   ],
   "source": [
    "%%time\n",
    "glb_ALK_100mDLSts = esmlab.weighted_sum(ds_alk_100mDLS.ALK_ALT_CO2, weights=area_m, dim=['nlat', 'nlon']).compute()\n",
    "#dims: z_t, time\n",
    "glb_ALK_100mDLSts = esmlab.weighted_sum(glb_ALK_100mDLSts, weights=dz_m, dim=['z_t']).compute()\n",
    "#dims: time\n",
    "glb_ALK_100mDLSts = glb_ALK_100mDLSts * 0.001 * 1.e-15 #mmol to Pmol\n",
    "#glb_DIC_ts1 "
   ]
  },
  {
   "cell_type": "markdown",
   "metadata": {},
   "source": [
    "### Total up ALK 1000m DLS"
   ]
  },
  {
   "cell_type": "code",
   "execution_count": 42,
   "metadata": {},
   "outputs": [
    {
     "name": "stdout",
     "output_type": "stream",
     "text": [
      "CPU times: user 28.4 s, sys: 56.6 s, total: 1min 25s\n",
      "Wall time: 2min 37s\n"
     ]
    }
   ],
   "source": [
    "%%time\n",
    "glb_ALK_1000mDLSts = esmlab.weighted_sum(ds_alk_1000mDLS.ALK_ALT_CO2, weights=area_m, dim=['nlat', 'nlon']).compute()\n",
    "#dims: z_t, time\n",
    "glb_ALK_1000mDLSts = esmlab.weighted_sum(glb_ALK_1000mDLSts, weights=dz_m, dim=['z_t']).compute()\n",
    "#dims: time\n",
    "glb_ALK_1000mDLSts = glb_ALK_1000mDLSts * 0.001 * 1.e-15 #mmol to Pmol\n",
    "#glb_DIC_ts1 "
   ]
  },
  {
   "cell_type": "code",
   "execution_count": 43,
   "metadata": {},
   "outputs": [],
   "source": [
    "years=np.arange(1,311,1)\n",
    "years = xr.DataArray(years,dims='time')"
   ]
  },
  {
   "cell_type": "markdown",
   "metadata": {},
   "source": [
    "#### Plot a timeseries of ALK inventory"
   ]
  },
  {
   "cell_type": "code",
   "execution_count": 44,
   "metadata": {},
   "outputs": [
    {
     "data": {
      "text/plain": [
       "<matplotlib.legend.Legend at 0x2b140e66d810>"
      ]
     },
     "execution_count": 44,
     "metadata": {},
     "output_type": "execute_result"
    },
    {
     "data": {
      "image/png": "[encoded data removed]",
      "text/plain": [
       "<Figure size 1152x360 with 1 Axes>"
      ]
     },
     "metadata": {
      "needs_background": "light"
     },
     "output_type": "display_data"
    }
   ],
   "source": [
    "fig = plt.figure(figsize=(16,5))\n",
    "\n",
    "ax = fig.add_subplot(1,1,1)\n",
    "ax.set_title('Ocean ALK inventory')\n",
    "\n",
    "ax.plot(years,glb_ALK_ts,color='blue', label='control')\n",
    "ax.plot(years,glb_ALK_noGCBts,color='red', label='noGCB')\n",
    "ax.plot(years,glb_ALK_2xGCBts,color='green', label='2xGCB')\n",
    "ax.plot(years,glb_ALK_100mDLSts,color='orange', label='100mDLS')\n",
    "ax.plot(years,glb_ALK_1000mDLSts,color='purple', label='1000mDLS')\n",
    "\n",
    "ax.set(ylabel='Alk inventory (Pmol)',xlabel='year of simulation')\n",
    "ax.legend()"
   ]
  },
  {
   "cell_type": "code",
   "execution_count": 64,
   "metadata": {},
   "outputs": [
    {
     "data": {
      "text/plain": [
       "-0.0003500540892595543"
      ]
     },
     "execution_count": 64,
     "metadata": {},
     "output_type": "execute_result"
    }
   ],
   "source": [
    "slope, intercept, r_value, p_value, std_err = stats.linregress(years.isel(time=slice(186,310)),glb_ALK_ts.isel(time=slice(186,310)))\n",
    "slope"
   ]
  },
  {
   "cell_type": "code",
   "execution_count": 65,
   "metadata": {},
   "outputs": [],
   "source": [
    "line_alk_control = np.empty([124])\n",
    "t=0\n",
    "for i in np.arange(186,310,1):\n",
    "    line_alk_control[t] = slope * i + intercept\n",
    "    t=t+1"
   ]
  },
  {
   "cell_type": "code",
   "execution_count": 66,
   "metadata": {},
   "outputs": [
    {
     "data": {
      "text/plain": [
       "0.00967252517582719"
      ]
     },
     "execution_count": 66,
     "metadata": {},
     "output_type": "execute_result"
    }
   ],
   "source": [
    "slope, intercept, r_value, p_value, std_err = stats.linregress(years.isel(time=slice(186,310)),glb_ALK_noGCBts.isel(time=slice(186,310)))\n",
    "slope"
   ]
  },
  {
   "cell_type": "code",
   "execution_count": 67,
   "metadata": {},
   "outputs": [],
   "source": [
    "line_alk_noGCB = np.empty([124])\n",
    "t=0\n",
    "for i in np.arange(186,310,1):\n",
    "    line_alk_noGCB[t] = slope * i + intercept\n",
    "    t=t+1"
   ]
  },
  {
   "cell_type": "code",
   "execution_count": 68,
   "metadata": {},
   "outputs": [
    {
     "data": {
      "text/plain": [
       "-0.010372654371647319"
      ]
     },
     "execution_count": 68,
     "metadata": {},
     "output_type": "execute_result"
    }
   ],
   "source": [
    "slope, intercept, r_value, p_value, std_err = stats.linregress(years.isel(time=slice(186,310)),glb_ALK_2xGCBts.isel(time=slice(186,310)))\n",
    "slope"
   ]
  },
  {
   "cell_type": "code",
   "execution_count": 69,
   "metadata": {},
   "outputs": [],
   "source": [
    "line_alk_2xGCB = np.empty([124])\n",
    "t=0\n",
    "for i in np.arange(186,310,1):\n",
    "    line_alk_2xGCB[t] = slope * i + intercept\n",
    "    t=t+1"
   ]
  },
  {
   "cell_type": "code",
   "execution_count": 70,
   "metadata": {},
   "outputs": [
    {
     "data": {
      "text/plain": [
       "0.005607156241037711"
      ]
     },
     "execution_count": 70,
     "metadata": {},
     "output_type": "execute_result"
    }
   ],
   "source": [
    "slope, intercept, r_value, p_value, std_err = stats.linregress(years.isel(time=slice(186,310)),glb_ALK_100mDLSts.isel(time=slice(186,310)))\n",
    "slope"
   ]
  },
  {
   "cell_type": "code",
   "execution_count": 71,
   "metadata": {},
   "outputs": [],
   "source": [
    "line_alk_100mDLS = np.empty([124])\n",
    "t=0\n",
    "for i in np.arange(186,310,1):\n",
    "    line_alk_100mDLS[t] = slope * i + intercept\n",
    "    t=t+1"
   ]
  },
  {
   "cell_type": "code",
   "execution_count": 72,
   "metadata": {},
   "outputs": [
    {
     "data": {
      "text/plain": [
       "-0.004635118833758652"
      ]
     },
     "execution_count": 72,
     "metadata": {},
     "output_type": "execute_result"
    }
   ],
   "source": [
    "slope, intercept, r_value, p_value, std_err = stats.linregress(years.isel(time=slice(186,310)),glb_ALK_1000mDLSts.isel(time=slice(186,310)))\n",
    "slope"
   ]
  },
  {
   "cell_type": "code",
   "execution_count": 73,
   "metadata": {},
   "outputs": [],
   "source": [
    "line_alk_1000mDLS = np.empty([124])\n",
    "t=0\n",
    "for i in np.arange(186,310,1):\n",
    "    line_alk_1000mDLS[t] = slope * i + intercept\n",
    "    t=t+1"
   ]
  },
  {
   "cell_type": "code",
   "execution_count": 74,
   "metadata": {},
   "outputs": [],
   "source": [
    "yr_2iaf=years.isel(time=slice(186,310))"
   ]
  },
  {
   "cell_type": "code",
   "execution_count": 79,
   "metadata": {},
   "outputs": [
    {
     "data": {
      "image/png": "[encoded data removed]",
      "text/plain": [
       "<Figure size 648x360 with 1 Axes>"
      ]
     },
     "metadata": {
      "needs_background": "light"
     },
     "output_type": "display_data"
    }
   ],
   "source": [
    "fig = plt.figure(figsize=(9,5))\n",
    "\n",
    "\n",
    "ax = fig.add_subplot(1,1,1)\n",
    "ax.set_title('Ocean ALK inventory')\n",
    "\n",
    "ax.plot(years,glb_ALK_ts,color='blue', label='control')\n",
    "ax.plot(yr_2iaf,line_alk_control,'--',color='blue')\n",
    "\n",
    "ax.plot(years,glb_ALK_noGCBts,color='red', label='noGCB')\n",
    "ax.plot(yr_2iaf,line_alk_noGCB,'--',color='red')\n",
    "\n",
    "ax.plot(years,glb_ALK_2xGCBts,color='green', label='2xGCB')\n",
    "ax.plot(yr_2iaf,line_alk_2xGCB,'--',color='green')\n",
    "\n",
    "ax.plot(years,glb_ALK_100mDLSts,color='orange', label='100mDLS')\n",
    "ax.plot(yr_2iaf,line_alk_100mDLS,'--',color='orange')\n",
    "\n",
    "ax.plot(years,glb_ALK_1000mDLSts,color='purple', label='1000mDLS')\n",
    "ax.plot(yr_2iaf,line_alk_1000mDLS,'--',color='purple')\n",
    "\n",
    "ax.set(ylabel='Ocean Alk inventory (Pmol)',xlabel='Time (simulation years)')\n",
    "ax.legend()\n",
    "\n",
    "fig.savefig('/glade/u/home/kristenk/besome/alk_calc_paper/Figs/ALK_inventory_tseries.pdf', bbox_inches='tight', format='pdf');\n"
   ]
  },
  {
   "cell_type": "code",
   "execution_count": null,
   "metadata": {},
   "outputs": [],
   "source": []
  },
  {
   "cell_type": "code",
   "execution_count": null,
   "metadata": {},
   "outputs": [],
   "source": []
  },
  {
   "cell_type": "code",
   "execution_count": null,
   "metadata": {},
   "outputs": [],
   "source": []
  }
 ],
 "metadata": {
  "kernelspec": {
   "display_name": "Python [conda env:miniconda-besome]",
   "language": "python",
   "name": "conda-env-miniconda-besome-py"
  },
  "language_info": {
   "codemirror_mode": {
    "name": "ipython",
    "version": 3
   },
   "file_extension": ".py",
   "mimetype": "text/x-python",
   "name": "python",
   "nbconvert_exporter": "python",
   "pygments_lexer": "ipython3",
   "version": "3.7.6"
  }
 },
 "nbformat": 4,
 "nbformat_minor": 4
}
