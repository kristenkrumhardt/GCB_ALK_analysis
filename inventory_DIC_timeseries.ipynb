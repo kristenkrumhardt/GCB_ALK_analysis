{
 "cells": [
  {
   "cell_type": "code",
   "execution_count": 1,
   "metadata": {},
   "outputs": [],
   "source": [
    "import warnings\n",
    "warnings.filterwarnings('ignore')\n",
    "%matplotlib inline\n",
    "import os\n",
    "from glob import glob\n",
    "from collections import OrderedDict\n",
    "import xarray as xr\n",
    "import numpy as np\n",
    "import esmlab\n",
    "import matplotlib.pyplot as plt\n",
    "import matplotlib.gridspec as gridspec\n",
    "import cartopy\n",
    "import cartopy.crs as ccrs\n",
    "import seawater as sw\n",
    "from seawater.library import T90conv\n",
    "from scipy import stats\n",
    "\n",
    "import ncar_jobqueue\n",
    "from dask.distributed import Client"
   ]
  },
  {
   "cell_type": "markdown",
   "metadata": {},
   "source": [
    "Note: this notebook uses annual means for all 5 IAFs.\n",
    "\n",
    "These means were made using this notebook:\n",
    "/glade/u/home/kristenk/besome/alk-calc_transient_response/make_annual_mean_tseries.ipynb"
   ]
  },
  {
   "cell_type": "markdown",
   "metadata": {},
   "source": [
    "### get DIC control"
   ]
  },
  {
   "cell_type": "code",
   "execution_count": 2,
   "metadata": {},
   "outputs": [],
   "source": [
    "case='cesm22cocco.G1850ECOIAF.T62_g17.003'"
   ]
  },
  {
   "cell_type": "code",
   "execution_count": 3,
   "metadata": {},
   "outputs": [],
   "source": [
    "file='/glade/scratch/kristenk/archive/'+case+'/ocn/proc/tseries/year_1/'+case+'.annual.DIC.0001-0062.nc'\n",
    "ds_dic_1 = xr.open_dataset(file,decode_times=False,decode_coords=False)"
   ]
  },
  {
   "cell_type": "code",
   "execution_count": 4,
   "metadata": {},
   "outputs": [],
   "source": [
    "file='/glade/scratch/kristenk/archive/'+case+'/ocn/proc/tseries/year_1/'+case+'.annual.DIC.0063-0124.nc'\n",
    "ds_dic_2 = xr.open_dataset(file,decode_times=False,decode_coords=False)"
   ]
  },
  {
   "cell_type": "code",
   "execution_count": 5,
   "metadata": {},
   "outputs": [],
   "source": [
    "file='/glade/scratch/kristenk/archive/'+case+'/ocn/proc/tseries/year_1/'+case+'.annual.DIC.0125-0186.nc'\n",
    "ds_dic_3 = xr.open_dataset(file,decode_times=False,decode_coords=False)"
   ]
  },
  {
   "cell_type": "code",
   "execution_count": 6,
   "metadata": {},
   "outputs": [],
   "source": [
    "file='/glade/scratch/kristenk/archive/'+case+'/ocn/proc/tseries/year_1/'+case+'.annual.DIC.0187-0248.nc'\n",
    "ds_dic_4 = xr.open_dataset(file,decode_times=False,decode_coords=False)"
   ]
  },
  {
   "cell_type": "code",
   "execution_count": 7,
   "metadata": {},
   "outputs": [],
   "source": [
    "file='/glade/scratch/kristenk/archive/'+case+'/ocn/proc/tseries/year_1/'+case+'.annual.DIC.0249-0310.nc'\n",
    "ds_dic_5 = xr.open_dataset(file,decode_times=False,decode_coords=False)"
   ]
  },
  {
   "cell_type": "code",
   "execution_count": 8,
   "metadata": {},
   "outputs": [],
   "source": [
    "ds_dic = xr.concat([ds_dic_1, ds_dic_2, ds_dic_3, ds_dic_4, ds_dic_5], 'time')"
   ]
  },
  {
   "cell_type": "markdown",
   "metadata": {},
   "source": [
    "### get DIC noGCB"
   ]
  },
  {
   "cell_type": "code",
   "execution_count": 9,
   "metadata": {},
   "outputs": [],
   "source": [
    "file='/glade/scratch/kristenk/archive/'+case+'/ocn/proc/tseries/year_1/'+case+'.annual.DIC_ALT_CO2.0001-0062.nc'\n",
    "ds_dic_noGCB1 = xr.open_dataset(file,decode_times=False,decode_coords=False)"
   ]
  },
  {
   "cell_type": "code",
   "execution_count": 10,
   "metadata": {},
   "outputs": [],
   "source": [
    "file='/glade/scratch/kristenk/archive/'+case+'/ocn/proc/tseries/year_1/'+case+'.annual.DIC_ALT_CO2.0063-0124.nc'\n",
    "ds_dic_noGCB2 = xr.open_dataset(file,decode_times=False,decode_coords=False)"
   ]
  },
  {
   "cell_type": "code",
   "execution_count": 11,
   "metadata": {},
   "outputs": [],
   "source": [
    "file='/glade/scratch/kristenk/archive/'+case+'/ocn/proc/tseries/year_1/'+case+'.annual.DIC_ALT_CO2.0125-0186.nc'\n",
    "ds_dic_noGCB3 = xr.open_dataset(file,decode_times=False,decode_coords=False)"
   ]
  },
  {
   "cell_type": "code",
   "execution_count": 12,
   "metadata": {},
   "outputs": [],
   "source": [
    "file='/glade/scratch/kristenk/archive/'+case+'/ocn/proc/tseries/year_1/'+case+'.annual.DIC_ALT_CO2.0187-0248.nc'\n",
    "ds_dic_noGCB4 = xr.open_dataset(file,decode_times=False,decode_coords=False)"
   ]
  },
  {
   "cell_type": "code",
   "execution_count": 13,
   "metadata": {},
   "outputs": [],
   "source": [
    "file='/glade/scratch/kristenk/archive/'+case+'/ocn/proc/tseries/year_1/'+case+'.annual.DIC_ALT_CO2.0249-0310.nc'\n",
    "ds_dic_noGCB5 = xr.open_dataset(file,decode_times=False,decode_coords=False)"
   ]
  },
  {
   "cell_type": "code",
   "execution_count": 14,
   "metadata": {},
   "outputs": [],
   "source": [
    "ds_dic_noGCB = xr.concat([ds_dic_noGCB1, ds_dic_noGCB2, ds_dic_noGCB3, ds_dic_noGCB4, ds_dic_noGCB5], 'time')"
   ]
  },
  {
   "cell_type": "markdown",
   "metadata": {},
   "source": [
    "### get DIC with 2x GCB"
   ]
  },
  {
   "cell_type": "code",
   "execution_count": 15,
   "metadata": {},
   "outputs": [],
   "source": [
    "case='cesm22cocco.G1850ECOIAF.T62_g17.004'"
   ]
  },
  {
   "cell_type": "code",
   "execution_count": 16,
   "metadata": {},
   "outputs": [],
   "source": [
    "file='/glade/scratch/kristenk/archive/'+case+'/ocn/proc/tseries/year_1/'+case+'.annual.DIC_ALT_CO2.0001-0062.nc'\n",
    "ds_dic_2xGCB1 = xr.open_dataset(file,decode_times=False,decode_coords=False)"
   ]
  },
  {
   "cell_type": "code",
   "execution_count": 17,
   "metadata": {},
   "outputs": [],
   "source": [
    "file='/glade/scratch/kristenk/archive/'+case+'/ocn/proc/tseries/year_1/'+case+'.annual.DIC_ALT_CO2.0063-0124.nc'\n",
    "ds_dic_2xGCB2 = xr.open_dataset(file,decode_times=False,decode_coords=False)"
   ]
  },
  {
   "cell_type": "code",
   "execution_count": 18,
   "metadata": {},
   "outputs": [],
   "source": [
    "file='/glade/scratch/kristenk/archive/'+case+'/ocn/proc/tseries/year_1/'+case+'.annual.DIC_ALT_CO2.0125-0186.nc'\n",
    "ds_dic_2xGCB3 = xr.open_dataset(file,decode_times=False,decode_coords=False)"
   ]
  },
  {
   "cell_type": "code",
   "execution_count": 19,
   "metadata": {},
   "outputs": [],
   "source": [
    "file='/glade/scratch/kristenk/archive/'+case+'/ocn/proc/tseries/year_1/'+case+'.annual.DIC_ALT_CO2.0187-0248.nc'\n",
    "ds_dic_2xGCB4 = xr.open_dataset(file,decode_times=False,decode_coords=False)"
   ]
  },
  {
   "cell_type": "code",
   "execution_count": 20,
   "metadata": {},
   "outputs": [],
   "source": [
    "file='/glade/scratch/kristenk/archive/'+case+'/ocn/proc/tseries/year_1/'+case+'.annual.DIC_ALT_CO2.0249-0310.nc'\n",
    "ds_dic_2xGCB5 = xr.open_dataset(file,decode_times=False,decode_coords=False)"
   ]
  },
  {
   "cell_type": "code",
   "execution_count": 21,
   "metadata": {},
   "outputs": [],
   "source": [
    "ds_dic_2xGCB = xr.concat([ds_dic_2xGCB1, ds_dic_2xGCB2, ds_dic_2xGCB3, ds_dic_2xGCB4, ds_dic_2xGCB5], 'time')"
   ]
  },
  {
   "cell_type": "markdown",
   "metadata": {},
   "source": [
    "### get DIC with 100m dissolution length scale"
   ]
  },
  {
   "cell_type": "code",
   "execution_count": 22,
   "metadata": {},
   "outputs": [],
   "source": [
    "case='cesm22cocco.G1850ECOIAF.T62_g17.009'"
   ]
  },
  {
   "cell_type": "code",
   "execution_count": 23,
   "metadata": {},
   "outputs": [],
   "source": [
    "file='/glade/scratch/kristenk/archive/'+case+'/ocn/proc/tseries/year_1/'+case+'.annual.DIC_ALT_CO2.0001-0062.nc'\n",
    "ds_dic_100mDLS1 = xr.open_dataset(file,decode_times=False,decode_coords=False)"
   ]
  },
  {
   "cell_type": "code",
   "execution_count": 24,
   "metadata": {},
   "outputs": [],
   "source": [
    "file='/glade/scratch/kristenk/archive/'+case+'/ocn/proc/tseries/year_1/'+case+'.annual.DIC_ALT_CO2.0063-0124.nc'\n",
    "ds_dic_100mDLS2 = xr.open_dataset(file,decode_times=False,decode_coords=False)"
   ]
  },
  {
   "cell_type": "code",
   "execution_count": 25,
   "metadata": {},
   "outputs": [],
   "source": [
    "file='/glade/scratch/kristenk/archive/'+case+'/ocn/proc/tseries/year_1/'+case+'.annual.DIC_ALT_CO2.0125-0186.nc'\n",
    "ds_dic_100mDLS3 = xr.open_dataset(file,decode_times=False,decode_coords=False)"
   ]
  },
  {
   "cell_type": "code",
   "execution_count": 26,
   "metadata": {},
   "outputs": [],
   "source": [
    "file='/glade/scratch/kristenk/archive/'+case+'/ocn/proc/tseries/year_1/'+case+'.annual.DIC_ALT_CO2.0187-0248.nc'\n",
    "ds_dic_100mDLS4 = xr.open_dataset(file,decode_times=False,decode_coords=False)"
   ]
  },
  {
   "cell_type": "code",
   "execution_count": 27,
   "metadata": {},
   "outputs": [],
   "source": [
    "file='/glade/scratch/kristenk/archive/'+case+'/ocn/proc/tseries/year_1/'+case+'.annual.DIC_ALT_CO2.0249-0310.nc'\n",
    "ds_dic_100mDLS5 = xr.open_dataset(file,decode_times=False,decode_coords=False)"
   ]
  },
  {
   "cell_type": "code",
   "execution_count": 28,
   "metadata": {},
   "outputs": [],
   "source": [
    "ds_dic_100mDLS = xr.concat([ds_dic_100mDLS1, ds_dic_100mDLS2, ds_dic_100mDLS3, ds_dic_100mDLS4, ds_dic_100mDLS5], 'time')"
   ]
  },
  {
   "cell_type": "markdown",
   "metadata": {},
   "source": [
    "### get DIC with 1000m dissolution "
   ]
  },
  {
   "cell_type": "code",
   "execution_count": 29,
   "metadata": {},
   "outputs": [],
   "source": [
    "case='cesm22cocco.G1850ECOIAF.T62_g17.010'"
   ]
  },
  {
   "cell_type": "code",
   "execution_count": 30,
   "metadata": {},
   "outputs": [],
   "source": [
    "file='/glade/scratch/kristenk/archive/'+case+'/ocn/proc/tseries/year_1/'+case+'.annual.DIC_ALT_CO2.0001-0062.nc'\n",
    "ds_dic_1000mDLS1 = xr.open_dataset(file,decode_times=False,decode_coords=False)"
   ]
  },
  {
   "cell_type": "code",
   "execution_count": 31,
   "metadata": {},
   "outputs": [],
   "source": [
    "file='/glade/scratch/kristenk/archive/'+case+'/ocn/proc/tseries/year_1/'+case+'.annual.DIC_ALT_CO2.0063-0124.nc'\n",
    "ds_dic_1000mDLS2 = xr.open_dataset(file,decode_times=False,decode_coords=False)"
   ]
  },
  {
   "cell_type": "code",
   "execution_count": 32,
   "metadata": {},
   "outputs": [],
   "source": [
    "file='/glade/scratch/kristenk/archive/'+case+'/ocn/proc/tseries/year_1/'+case+'.annual.DIC_ALT_CO2.0125-0186.nc'\n",
    "ds_dic_1000mDLS3 = xr.open_dataset(file,decode_times=False,decode_coords=False)"
   ]
  },
  {
   "cell_type": "code",
   "execution_count": 33,
   "metadata": {},
   "outputs": [],
   "source": [
    "file='/glade/scratch/kristenk/archive/'+case+'/ocn/proc/tseries/year_1/'+case+'.annual.DIC_ALT_CO2.0187-0248.nc'\n",
    "ds_dic_1000mDLS4 = xr.open_dataset(file,decode_times=False,decode_coords=False)"
   ]
  },
  {
   "cell_type": "code",
   "execution_count": 34,
   "metadata": {},
   "outputs": [],
   "source": [
    "file='/glade/scratch/kristenk/archive/'+case+'/ocn/proc/tseries/year_1/'+case+'.annual.DIC_ALT_CO2.0249-0310.nc'\n",
    "ds_dic_1000mDLS5 = xr.open_dataset(file,decode_times=False,decode_coords=False)"
   ]
  },
  {
   "cell_type": "code",
   "execution_count": 35,
   "metadata": {},
   "outputs": [],
   "source": [
    "ds_dic_1000mDLS = xr.concat([ds_dic_1000mDLS1, ds_dic_1000mDLS2, ds_dic_1000mDLS3, ds_dic_1000mDLS4, ds_dic_1000mDLS5], 'time')"
   ]
  },
  {
   "cell_type": "markdown",
   "metadata": {},
   "source": [
    "### Now we have everything we need"
   ]
  },
  {
   "cell_type": "code",
   "execution_count": 36,
   "metadata": {},
   "outputs": [],
   "source": [
    "file = '/glade/work/kristenk/WOA_data/regrid_POP/WOA2013_POPgrid.nc' \n",
    "ds_woa = xr.load_dataset(file, decode_times=False, decode_coords=False)\n",
    "ds_woa['z_t'] = ds_dic_2xGCB5.z_t"
   ]
  },
  {
   "cell_type": "code",
   "execution_count": 1,
   "metadata": {},
   "outputs": [
    {
     "ename": "NameError",
     "evalue": "name 'ds_woa' is not defined",
     "output_type": "error",
     "traceback": [
      "\u001b[0;31m---------------------------------------------------------------------------\u001b[0m",
      "\u001b[0;31mNameError\u001b[0m                                 Traceback (most recent call last)",
      "\u001b[0;32m<ipython-input-1-8be5698d8030>\u001b[0m in \u001b[0;36m<module>\u001b[0;34m\u001b[0m\n\u001b[0;32m----> 1\u001b[0;31m \u001b[0mlons\u001b[0m\u001b[0;34m=\u001b[0m\u001b[0mds_woa\u001b[0m\u001b[0;34m.\u001b[0m\u001b[0mTLONG\u001b[0m\u001b[0;34m\u001b[0m\u001b[0;34m\u001b[0m\u001b[0m\n\u001b[0m\u001b[1;32m      2\u001b[0m \u001b[0mlats\u001b[0m\u001b[0;34m=\u001b[0m\u001b[0mds_woa\u001b[0m\u001b[0;34m.\u001b[0m\u001b[0mTLAT\u001b[0m\u001b[0;34m\u001b[0m\u001b[0;34m\u001b[0m\u001b[0m\n\u001b[1;32m      3\u001b[0m \u001b[0marea\u001b[0m\u001b[0;34m=\u001b[0m\u001b[0mds_woa\u001b[0m\u001b[0;34m.\u001b[0m\u001b[0mTAREA\u001b[0m\u001b[0;34m\u001b[0m\u001b[0;34m\u001b[0m\u001b[0m\n\u001b[1;32m      4\u001b[0m \u001b[0marea_m\u001b[0m\u001b[0;34m=\u001b[0m\u001b[0mds_woa\u001b[0m\u001b[0;34m.\u001b[0m\u001b[0mTAREA\u001b[0m \u001b[0;34m*\u001b[0m \u001b[0;36m1e-4\u001b[0m\u001b[0;34m\u001b[0m\u001b[0;34m\u001b[0m\u001b[0m\n\u001b[1;32m      5\u001b[0m \u001b[0mdepths_m\u001b[0m\u001b[0;34m=\u001b[0m\u001b[0mds_woa\u001b[0m\u001b[0;34m.\u001b[0m\u001b[0mz_t\u001b[0m \u001b[0;34m*\u001b[0m \u001b[0;36m0.01\u001b[0m\u001b[0;34m\u001b[0m\u001b[0;34m\u001b[0m\u001b[0m\n",
      "\u001b[0;31mNameError\u001b[0m: name 'ds_woa' is not defined"
     ]
    }
   ],
   "source": [
    "lons=ds_woa.TLONG\n",
    "lats=ds_woa.TLAT\n",
    "area=ds_woa.TAREA\n",
    "area_m=ds_woa.TAREA * 1e-4\n",
    "depths_m=ds_woa.z_t * 0.01\n",
    "dz=ds_woa.dz\n",
    "dz_m=ds_woa.dz * 0.01"
   ]
  },
  {
   "cell_type": "markdown",
   "metadata": {},
   "source": [
    "### Total up DIC control"
   ]
  },
  {
   "cell_type": "code",
   "execution_count": 38,
   "metadata": {},
   "outputs": [
    {
     "name": "stdout",
     "output_type": "stream",
     "text": [
      "CPU times: user 29.1 s, sys: 1min 19s, total: 1min 48s\n",
      "Wall time: 2min 30s\n"
     ]
    }
   ],
   "source": [
    "%%time\n",
    "glb_DIC_ts = esmlab.weighted_sum(ds_dic.DIC, weights=area_m, dim=['nlat', 'nlon']).compute()\n",
    "#dims: z_t, time\n",
    "glb_DIC_ts = esmlab.weighted_sum(glb_DIC_ts, weights=dz_m, dim=['z_t']).compute()\n",
    "#dims: time\n",
    "glb_DIC_ts = glb_DIC_ts * 0.001 * 1.e-15 #mmol to Pmol\n",
    "#glb_DIC_ts1 "
   ]
  },
  {
   "cell_type": "markdown",
   "metadata": {},
   "source": [
    "### Total up DIC noGCB"
   ]
  },
  {
   "cell_type": "code",
   "execution_count": 39,
   "metadata": {},
   "outputs": [
    {
     "name": "stdout",
     "output_type": "stream",
     "text": [
      "CPU times: user 26.9 s, sys: 51.4 s, total: 1min 18s\n",
      "Wall time: 2min 14s\n"
     ]
    }
   ],
   "source": [
    "%%time\n",
    "glb_DIC_noGCBts = esmlab.weighted_sum(ds_dic_noGCB.DIC_ALT_CO2, weights=area_m, dim=['nlat', 'nlon']).compute()\n",
    "#dims: z_t, time\n",
    "glb_DIC_noGCBts = esmlab.weighted_sum(glb_DIC_noGCBts, weights=dz_m, dim=['z_t']).compute()\n",
    "#dims: time\n",
    "glb_DIC_noGCBts = glb_DIC_noGCBts * 0.001 * 1.e-15 #mmol to Pmol\n",
    "#glb_DIC_ts1 "
   ]
  },
  {
   "cell_type": "markdown",
   "metadata": {},
   "source": [
    "### Total up DIC 2xGCB"
   ]
  },
  {
   "cell_type": "code",
   "execution_count": 40,
   "metadata": {},
   "outputs": [
    {
     "name": "stdout",
     "output_type": "stream",
     "text": [
      "CPU times: user 26.4 s, sys: 48.4 s, total: 1min 14s\n",
      "Wall time: 2min 17s\n"
     ]
    }
   ],
   "source": [
    "%%time\n",
    "glb_DIC_2xGCBts = esmlab.weighted_sum(ds_dic_2xGCB.DIC_ALT_CO2, weights=area_m, dim=['nlat', 'nlon']).compute()\n",
    "#dims: z_t, time\n",
    "glb_DIC_2xGCBts = esmlab.weighted_sum(glb_DIC_2xGCBts, weights=dz_m, dim=['z_t']).compute()\n",
    "#dims: time\n",
    "glb_DIC_2xGCBts = glb_DIC_2xGCBts * 0.001 * 1.e-15 #mmol to Pmol\n",
    "#glb_DIC_ts1 "
   ]
  },
  {
   "cell_type": "markdown",
   "metadata": {},
   "source": [
    "### Total up DIC 100m DLS"
   ]
  },
  {
   "cell_type": "code",
   "execution_count": 41,
   "metadata": {},
   "outputs": [
    {
     "name": "stdout",
     "output_type": "stream",
     "text": [
      "CPU times: user 26.4 s, sys: 49 s, total: 1min 15s\n",
      "Wall time: 2min 14s\n"
     ]
    }
   ],
   "source": [
    "%%time\n",
    "glb_DIC_100mDLSts = esmlab.weighted_sum(ds_dic_100mDLS.DIC_ALT_CO2, weights=area_m, dim=['nlat', 'nlon']).compute()\n",
    "#dims: z_t, time\n",
    "glb_DIC_100mDLSts = esmlab.weighted_sum(glb_DIC_100mDLSts, weights=dz_m, dim=['z_t']).compute()\n",
    "#dims: time\n",
    "glb_DIC_100mDLSts = glb_DIC_100mDLSts * 0.001 * 1.e-15 #mmol to Pmol\n",
    "#glb_DIC_ts1 "
   ]
  },
  {
   "cell_type": "markdown",
   "metadata": {},
   "source": [
    "### Total up DIC 1000m DLS"
   ]
  },
  {
   "cell_type": "code",
   "execution_count": 42,
   "metadata": {},
   "outputs": [
    {
     "name": "stdout",
     "output_type": "stream",
     "text": [
      "CPU times: user 26.4 s, sys: 49.8 s, total: 1min 16s\n",
      "Wall time: 2min 23s\n"
     ]
    }
   ],
   "source": [
    "%%time\n",
    "glb_DIC_1000mDLSts = esmlab.weighted_sum(ds_dic_1000mDLS.DIC_ALT_CO2, weights=area_m, dim=['nlat', 'nlon']).compute()\n",
    "#dims: z_t, time\n",
    "glb_DIC_1000mDLSts = esmlab.weighted_sum(glb_DIC_1000mDLSts, weights=dz_m, dim=['z_t']).compute()\n",
    "#dims: time\n",
    "glb_DIC_1000mDLSts = glb_DIC_1000mDLSts * 0.001 * 1.e-15 #mmol to Pmol\n",
    "#glb_DIC_ts1 "
   ]
  },
  {
   "cell_type": "code",
   "execution_count": 43,
   "metadata": {},
   "outputs": [],
   "source": [
    "years=np.arange(1,311,1)\n",
    "years = xr.DataArray(years,dims='time')"
   ]
  },
  {
   "cell_type": "markdown",
   "metadata": {},
   "source": [
    "#### Plot a timeseries of DIC inventory"
   ]
  },
  {
   "cell_type": "code",
   "execution_count": 44,
   "metadata": {},
   "outputs": [
    {
     "data": {
      "text/plain": [
       "<matplotlib.legend.Legend at 0x2ac0a4f12d90>"
      ]
     },
     "execution_count": 44,
     "metadata": {},
     "output_type": "execute_result"
    },
    {
     "data": {
      "image/png": "[encoded data removed]",
      "text/plain": [
       "<Figure size 1152x360 with 1 Axes>"
      ]
     },
     "metadata": {
      "needs_background": "light"
     },
     "output_type": "display_data"
    }
   ],
   "source": [
    "fig = plt.figure(figsize=(16,5))\n",
    "\n",
    "ax = fig.add_subplot(1,1,1)\n",
    "ax.set_title('Ocean DIC inventory')\n",
    "\n",
    "ax.plot(years,glb_DIC_ts,color='blue', label='control')\n",
    "ax.plot(years,glb_DIC_noGCBts,color='red', label='noGCB')\n",
    "ax.plot(years,glb_DIC_2xGCBts,color='green', label='2xGCB')\n",
    "ax.plot(years,glb_DIC_100mDLSts,color='orange', label='100mDLS')\n",
    "ax.plot(years,glb_DIC_1000mDLSts,color='purple', label='1000mDLS')\n",
    "\n",
    "ax.set(ylabel='DIC inventory (Pmol)',xlabel='year of simulation')\n",
    "ax.legend()"
   ]
  },
  {
   "cell_type": "markdown",
   "metadata": {},
   "source": [
    "### Find trend over the last 2 IAF cycles"
   ]
  },
  {
   "cell_type": "code",
   "execution_count": 45,
   "metadata": {},
   "outputs": [],
   "source": [
    "slope, intercept, r_value, p_value, std_err = stats.linregress(years.isel(time=slice(186,310)),glb_DIC_ts.isel(time=slice(186,310)))\n",
    "slope_control = slope"
   ]
  },
  {
   "cell_type": "code",
   "execution_count": 46,
   "metadata": {},
   "outputs": [],
   "source": [
    "line_dic_control = np.empty([124])\n",
    "t=0\n",
    "for i in np.arange(186,310,1):\n",
    "    line_dic_control[t] = slope_control * i + intercept\n",
    "    t=t+1"
   ]
  },
  {
   "cell_type": "code",
   "execution_count": 47,
   "metadata": {},
   "outputs": [],
   "source": [
    "slope, intercept, r_value, p_value, std_err = stats.linregress(years.isel(time=slice(186,310)),glb_DIC_noGCBts.isel(time=slice(186,310)))\n",
    "slope_noGCB = slope"
   ]
  },
  {
   "cell_type": "code",
   "execution_count": 48,
   "metadata": {},
   "outputs": [],
   "source": [
    "line_dic_noGCB = np.empty([124])\n",
    "t=0\n",
    "for i in np.arange(186,310,1):\n",
    "    line_dic_noGCB[t] = slope_noGCB * i + intercept\n",
    "    t=t+1"
   ]
  },
  {
   "cell_type": "code",
   "execution_count": 49,
   "metadata": {},
   "outputs": [],
   "source": [
    "slope, intercept, r_value, p_value, std_err = stats.linregress(years.isel(time=slice(186,310)),glb_DIC_2xGCBts.isel(time=slice(186,310)))\n",
    "slope_2xGCB = slope"
   ]
  },
  {
   "cell_type": "code",
   "execution_count": 50,
   "metadata": {},
   "outputs": [],
   "source": [
    "line_dic_2xGCB = np.empty([124])\n",
    "t=0\n",
    "for i in np.arange(186,310,1):\n",
    "    line_dic_2xGCB[t] = slope_2xGCB * i + intercept\n",
    "    t=t+1"
   ]
  },
  {
   "cell_type": "code",
   "execution_count": 51,
   "metadata": {},
   "outputs": [],
   "source": [
    "slope, intercept, r_value, p_value, std_err = stats.linregress(years.isel(time=slice(186,310)),glb_DIC_100mDLSts.isel(time=slice(186,310)))\n",
    "slope_100mDLS = slope"
   ]
  },
  {
   "cell_type": "code",
   "execution_count": 52,
   "metadata": {},
   "outputs": [],
   "source": [
    "line_dic_100mDLS = np.empty([124])\n",
    "t=0\n",
    "for i in np.arange(186,310,1):\n",
    "    line_dic_100mDLS[t] = slope_100mDLS * i + intercept\n",
    "    t=t+1"
   ]
  },
  {
   "cell_type": "code",
   "execution_count": 53,
   "metadata": {},
   "outputs": [],
   "source": [
    "slope, intercept, r_value, p_value, std_err = stats.linregress(years.isel(time=slice(186,310)),glb_DIC_1000mDLSts.isel(time=slice(186,310)))\n",
    "slope_1000mDLS = slope"
   ]
  },
  {
   "cell_type": "code",
   "execution_count": 54,
   "metadata": {},
   "outputs": [],
   "source": [
    "line_dic_1000mDLS = np.empty([124])\n",
    "t=0\n",
    "for i in np.arange(186,310,1):\n",
    "    line_dic_1000mDLS[t] = slope_1000mDLS * i + intercept\n",
    "    t=t+1"
   ]
  },
  {
   "cell_type": "code",
   "execution_count": 55,
   "metadata": {},
   "outputs": [],
   "source": [
    "yr_2iaf=years.isel(time=slice(186,310))"
   ]
  },
  {
   "cell_type": "code",
   "execution_count": 56,
   "metadata": {},
   "outputs": [
    {
     "data": {
      "image/png": "[encoded data removed]",
      "text/plain": [
       "<Figure size 648x360 with 1 Axes>"
      ]
     },
     "metadata": {
      "needs_background": "light"
     },
     "output_type": "display_data"
    }
   ],
   "source": [
    "fig = plt.figure(figsize=(9,5))\n",
    "\n",
    "ax = fig.add_subplot(1,1,1)\n",
    "#ax.set_title('Ocean DIC inventory')\n",
    "\n",
    "ax.plot(years,glb_DIC_ts,color='blue', label='control')\n",
    "ax.plot(yr_2iaf,line_dic_control,'--',color='blue')\n",
    "\n",
    "ax.plot(years,glb_DIC_noGCBts,color='red', label='noGCB')\n",
    "ax.plot(yr_2iaf,line_dic_noGCB,'--',color='red')\n",
    "\n",
    "ax.plot(years,glb_DIC_2xGCBts,color='green', label='2xGCB')\n",
    "ax.plot(yr_2iaf,line_dic_2xGCB,'--',color='green')\n",
    "\n",
    "ax.plot(years,glb_DIC_100mDLSts,color='orange', label='100mDLS')\n",
    "ax.plot(yr_2iaf,line_dic_100mDLS,'--',color='orange')\n",
    "\n",
    "ax.plot(years,glb_DIC_1000mDLSts,color='purple', label='1000mDLS')\n",
    "ax.plot(yr_2iaf,line_dic_1000mDLS,'--',color='purple')\n",
    "\n",
    "ax.set(ylabel='Ocean DIC inventory (Pmol)',xlabel='Time (simulation years)')\n",
    "ax.legend()\n",
    "\n",
    "fig.savefig('/glade/u/home/kristenk/besome/alk_calc_paper/Figs/DIC_inventory_tseries.pdf', bbox_inches='tight', format='pdf');\n"
   ]
  },
  {
   "cell_type": "code",
   "execution_count": 57,
   "metadata": {},
   "outputs": [],
   "source": [
    "slopes = [slope_noGCB*1000., slope_100mDLS*1000., slope_control*1000., slope_1000mDLS*1000., slope_2xGCB*1000.]"
   ]
  },
  {
   "cell_type": "code",
   "execution_count": 63,
   "metadata": {},
   "outputs": [],
   "source": [
    "slopes_norm = [slope_noGCB*1000.-slope_control*1000., \n",
    "              slope_100mDLS*1000.-slope_control*1000., \n",
    "              slope_control*1000.-slope_control*1000., \n",
    "              slope_1000mDLS*1000.-slope_control*1000., \n",
    "              slope_2xGCB*1000.-slope_control*1000.]"
   ]
  },
  {
   "cell_type": "code",
   "execution_count": 58,
   "metadata": {},
   "outputs": [],
   "source": [
    "fluxes = [-12.91, -9.7, 0., 3.8, 12.91] #data calculated in emergent constraint notebook"
   ]
  },
  {
   "cell_type": "code",
   "execution_count": 59,
   "metadata": {},
   "outputs": [],
   "source": [
    "slope, intercept, r_value, p_value, std_err = stats.linregress(slopes,fluxes)"
   ]
  },
  {
   "cell_type": "code",
   "execution_count": 64,
   "metadata": {},
   "outputs": [],
   "source": [
    "slope, intercept, r_value, p_value, std_err = stats.linregress(slopes_norm,fluxes)"
   ]
  },
  {
   "cell_type": "code",
   "execution_count": 65,
   "metadata": {},
   "outputs": [
    {
     "data": {
      "text/plain": [
       "-0.9524303630646803"
      ]
     },
     "execution_count": 65,
     "metadata": {},
     "output_type": "execute_result"
    }
   ],
   "source": [
    "slope"
   ]
  },
  {
   "cell_type": "code",
   "execution_count": 66,
   "metadata": {},
   "outputs": [
    {
     "data": {
      "text/plain": [
       "-0.4516923842505852"
      ]
     },
     "execution_count": 66,
     "metadata": {},
     "output_type": "execute_result"
    }
   ],
   "source": [
    "intercept"
   ]
  },
  {
   "cell_type": "code",
   "execution_count": 67,
   "metadata": {},
   "outputs": [
    {
     "data": {
      "text/plain": [
       "[13.78458922717228,\n",
       " 8.69741136208533,\n",
       " 0.0,\n",
       " -4.817180324784083,\n",
       " -13.841403645299897]"
      ]
     },
     "execution_count": 67,
     "metadata": {},
     "output_type": "execute_result"
    }
   ],
   "source": [
    "slopes_norm"
   ]
  },
  {
   "cell_type": "code",
   "execution_count": null,
   "metadata": {},
   "outputs": [],
   "source": []
  }
 ],
 "metadata": {
  "kernelspec": {
   "display_name": "Python [conda env:miniconda-besome]",
   "language": "python",
   "name": "conda-env-miniconda-besome-py"
  },
  "language_info": {
   "codemirror_mode": {
    "name": "ipython",
    "version": 3
   },
   "file_extension": ".py",
   "mimetype": "text/x-python",
   "name": "python",
   "nbconvert_exporter": "python",
   "pygments_lexer": "ipython3",
   "version": "3.7.6"
  }
 },
 "nbformat": 4,
 "nbformat_minor": 4
}
