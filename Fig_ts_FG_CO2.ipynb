{
 "cells": [
  {
   "cell_type": "code",
   "execution_count": 1,
   "metadata": {},
   "outputs": [
    {
     "name": "stderr",
     "output_type": "stream",
     "text": [
      "Cannot write to data cache folder '/glade/p/cesmdata/cseg'. Will not be able to download remote data files. Use environment variable 'CESMDATAROOT' to specify another directory.\n"
     ]
    }
   ],
   "source": [
    "%matplotlib inline\n",
    "import warnings\n",
    "warnings.filterwarnings('ignore')\n",
    "import os\n",
    "from glob import glob\n",
    "from collections import OrderedDict\n",
    "import xarray as xr\n",
    "import numpy as np\n",
    "\n",
    "import ncar_jobqueue\n",
    "from dask.distributed import Client\n",
    "\n",
    "import esmlab\n",
    "import matplotlib.pyplot as plt\n",
    "import cartopy\n",
    "import cartopy.crs as ccrs\n",
    "from scipy import stats\n",
    "import pop_tools \n",
    "\n",
    "from statistics import mean\n",
    "from matplotlib import style\n",
    "from scipy import stats\n",
    "style.use('default')"
   ]
  },
  {
   "cell_type": "markdown",
   "metadata": {},
   "source": [
    "## Get noGCB run"
   ]
  },
  {
   "cell_type": "code",
   "execution_count": 2,
   "metadata": {},
   "outputs": [],
   "source": [
    "case = 'cesm22cocco.G1850ECOIAF.T62_g17.003'\n",
    "#path = '/glade/scratch/kristenk/archive/' + case + '/ocn/proc/tseries/month_1'\n",
    "path = '/glade/campaign/cgd/oce/projects/besome/cesm-cases/' + case + '/ocn/proc/tseries/month_1'\n"
   ]
  },
  {
   "cell_type": "code",
   "execution_count": 3,
   "metadata": {},
   "outputs": [],
   "source": [
    "variables = ['FG_CO2','FG_ALT_CO2']\n",
    "coords = {'x':'TLONG','y':'TLAT'}\n",
    "keepthese = ['z_t','time_bound','TAREA','REGION_MASK', 'time'] + variables\n",
    "keep_vars = keepthese +list(coords.values())+['dz','KMT']"
   ]
  },
  {
   "cell_type": "markdown",
   "metadata": {},
   "source": [
    "#### get first IAF"
   ]
  },
  {
   "cell_type": "code",
   "execution_count": 4,
   "metadata": {},
   "outputs": [
    {
     "name": "stdout",
     "output_type": "stream",
     "text": [
      "reading cesm22cocco.G1850ECOIAF.T62_g17.003\n",
      "FG_CO2\n",
      "FG_ALT_CO2\n",
      "CPU times: user 601 ms, sys: 59 ms, total: 660 ms\n",
      "Wall time: 1.09 s\n"
     ]
    }
   ],
   "source": [
    "%%time\n",
    "ds_list = []\n",
    "print(f'reading {case}')\n",
    "ds1 = xr.Dataset()\n",
    "for v in variables:\n",
    "    \n",
    "    print(v)   \n",
    "    files = sorted(glob(f'{path}/{case}.pop.h.{v}.000101-006212.nc'))       \n",
    "    dsv=xr.open_mfdataset(files, data_vars=\"minimal\", coords='minimal', compat=\"override\", parallel=True, concat_dim=\"time\",\n",
    "                       drop_variables=[\"transport_components\", \"transport_regions\"], decode_times=True)\n",
    "\n",
    "    ds1 = xr.merge((ds1, dsv))\n",
    "    ds_list.append(ds1)"
   ]
  },
  {
   "cell_type": "code",
   "execution_count": 5,
   "metadata": {},
   "outputs": [],
   "source": [
    "ds1 = ds1.drop([v for v in ds1.variables if v not in keep_vars])"
   ]
  },
  {
   "cell_type": "code",
   "execution_count": 6,
   "metadata": {},
   "outputs": [],
   "source": [
    "#fix time dimension so it's a mean of the timebounds\n",
    "ds1[\"time\"] = ds1.time_bound.compute().mean(dim=\"d2\")"
   ]
  },
  {
   "cell_type": "code",
   "execution_count": 7,
   "metadata": {},
   "outputs": [
    {
     "name": "stdout",
     "output_type": "stream",
     "text": [
      "CPU times: user 6.49 s, sys: 1.35 s, total: 7.85 s\n",
      "Wall time: 6.61 s\n"
     ]
    }
   ],
   "source": [
    "%%time\n",
    "ds1 = ds1.resample({'time':'A'}).mean(dim='time').compute()"
   ]
  },
  {
   "cell_type": "markdown",
   "metadata": {},
   "source": [
    "#### get 2nd IAF"
   ]
  },
  {
   "cell_type": "code",
   "execution_count": 8,
   "metadata": {},
   "outputs": [
    {
     "name": "stdout",
     "output_type": "stream",
     "text": [
      "reading cesm22cocco.G1850ECOIAF.T62_g17.003\n",
      "FG_CO2\n",
      "FG_ALT_CO2\n",
      "CPU times: user 583 ms, sys: 50.2 ms, total: 633 ms\n",
      "Wall time: 1.02 s\n"
     ]
    }
   ],
   "source": [
    "%%time\n",
    "ds_list = []\n",
    "print(f'reading {case}')\n",
    "ds2 = xr.Dataset()\n",
    "for v in variables:\n",
    "    \n",
    "    print(v)   \n",
    "    files = sorted(glob(f'{path}/{case}.pop.h.{v}.006301-012412.nc'))       \n",
    "    dsv=xr.open_mfdataset(files, data_vars=\"minimal\", coords='minimal', compat=\"override\", parallel=True, concat_dim=\"time\",\n",
    "                       drop_variables=[\"transport_components\", \"transport_regions\"], decode_times=True)\n",
    "\n",
    "    ds2 = xr.merge((ds2, dsv))\n",
    "    ds_list.append(ds2)"
   ]
  },
  {
   "cell_type": "code",
   "execution_count": 9,
   "metadata": {},
   "outputs": [],
   "source": [
    "ds2 = ds2.drop([v for v in ds2.variables if v not in keep_vars])"
   ]
  },
  {
   "cell_type": "code",
   "execution_count": 10,
   "metadata": {},
   "outputs": [],
   "source": [
    "#fix time dimension so it's a mean of the timebounds\n",
    "ds2[\"time\"] = ds2.time_bound.compute().mean(dim=\"d2\")"
   ]
  },
  {
   "cell_type": "code",
   "execution_count": 11,
   "metadata": {},
   "outputs": [
    {
     "name": "stdout",
     "output_type": "stream",
     "text": [
      "CPU times: user 6.76 s, sys: 1.43 s, total: 8.19 s\n",
      "Wall time: 7.19 s\n"
     ]
    }
   ],
   "source": [
    "%%time\n",
    "ds2 = ds2.resample({'time':'A'}).mean(dim='time').compute()"
   ]
  },
  {
   "cell_type": "markdown",
   "metadata": {},
   "source": [
    "#### get 3rd IAF"
   ]
  },
  {
   "cell_type": "code",
   "execution_count": 12,
   "metadata": {},
   "outputs": [
    {
     "name": "stdout",
     "output_type": "stream",
     "text": [
      "reading cesm22cocco.G1850ECOIAF.T62_g17.003\n",
      "FG_CO2\n",
      "FG_ALT_CO2\n",
      "CPU times: user 629 ms, sys: 39.2 ms, total: 669 ms\n",
      "Wall time: 837 ms\n"
     ]
    }
   ],
   "source": [
    "%%time\n",
    "ds_list = []\n",
    "print(f'reading {case}')\n",
    "ds3 = xr.Dataset()\n",
    "for v in variables:\n",
    "    \n",
    "    print(v)   \n",
    "    files = sorted(glob(f'{path}/{case}.pop.h.{v}.012501-018612.nc'))       \n",
    "    dsv=xr.open_mfdataset(files, data_vars=\"minimal\", coords='minimal', compat=\"override\", parallel=True, concat_dim=\"time\",\n",
    "                       drop_variables=[\"transport_components\", \"transport_regions\"], decode_times=True)\n",
    "\n",
    "    ds3 = xr.merge((ds3, dsv))\n",
    "    ds_list.append(ds3)"
   ]
  },
  {
   "cell_type": "code",
   "execution_count": 13,
   "metadata": {},
   "outputs": [],
   "source": [
    "ds3 = ds3.drop([v for v in ds3.variables if v not in keep_vars])"
   ]
  },
  {
   "cell_type": "code",
   "execution_count": 14,
   "metadata": {},
   "outputs": [],
   "source": [
    "#fix time dimension so it's a mean of the timebounds\n",
    "ds3[\"time\"] = ds3.time_bound.compute().mean(dim=\"d2\")"
   ]
  },
  {
   "cell_type": "code",
   "execution_count": 15,
   "metadata": {},
   "outputs": [
    {
     "name": "stdout",
     "output_type": "stream",
     "text": [
      "CPU times: user 6.98 s, sys: 1.32 s, total: 8.3 s\n",
      "Wall time: 7.06 s\n"
     ]
    }
   ],
   "source": [
    "%%time\n",
    "ds3 = ds3.resample({'time':'A'}).mean(dim='time').compute()"
   ]
  },
  {
   "cell_type": "markdown",
   "metadata": {},
   "source": [
    "#### get 4th IAF"
   ]
  },
  {
   "cell_type": "code",
   "execution_count": 16,
   "metadata": {},
   "outputs": [
    {
     "name": "stdout",
     "output_type": "stream",
     "text": [
      "reading cesm22cocco.G1850ECOIAF.T62_g17.003\n",
      "FG_CO2\n",
      "FG_ALT_CO2\n",
      "CPU times: user 631 ms, sys: 42.9 ms, total: 674 ms\n",
      "Wall time: 955 ms\n"
     ]
    }
   ],
   "source": [
    "%%time\n",
    "ds_list = []\n",
    "print(f'reading {case}')\n",
    "ds4 = xr.Dataset()\n",
    "for v in variables:\n",
    "    \n",
    "    print(v)   \n",
    "    files = sorted(glob(f'{path}/{case}.pop.h.{v}.018701-024812.nc'))       \n",
    "    dsv=xr.open_mfdataset(files, data_vars=\"minimal\", coords='minimal', compat=\"override\", parallel=True, concat_dim=\"time\",\n",
    "                       drop_variables=[\"transport_components\", \"transport_regions\"], decode_times=True)\n",
    "\n",
    "    ds4 = xr.merge((ds4, dsv))\n",
    "    ds_list.append(ds4)"
   ]
  },
  {
   "cell_type": "code",
   "execution_count": 17,
   "metadata": {},
   "outputs": [],
   "source": [
    "ds4 = ds4.drop([v for v in ds4.variables if v not in keep_vars])"
   ]
  },
  {
   "cell_type": "code",
   "execution_count": 18,
   "metadata": {},
   "outputs": [],
   "source": [
    "#fix time dimension so it's a mean of the timebounds\n",
    "ds4[\"time\"] = ds4.time_bound.compute().mean(dim=\"d2\")"
   ]
  },
  {
   "cell_type": "code",
   "execution_count": 19,
   "metadata": {},
   "outputs": [
    {
     "name": "stdout",
     "output_type": "stream",
     "text": [
      "CPU times: user 6.59 s, sys: 1.23 s, total: 7.82 s\n",
      "Wall time: 6.61 s\n"
     ]
    }
   ],
   "source": [
    "%%time\n",
    "ds4 = ds4.resample({'time':'A'}).mean(dim='time').compute()"
   ]
  },
  {
   "cell_type": "markdown",
   "metadata": {},
   "source": [
    "#### get 5th IAF"
   ]
  },
  {
   "cell_type": "code",
   "execution_count": 20,
   "metadata": {},
   "outputs": [
    {
     "name": "stdout",
     "output_type": "stream",
     "text": [
      "reading cesm22cocco.G1850ECOIAF.T62_g17.003\n",
      "FG_CO2\n",
      "FG_ALT_CO2\n",
      "CPU times: user 597 ms, sys: 37.7 ms, total: 635 ms\n",
      "Wall time: 1.95 s\n"
     ]
    }
   ],
   "source": [
    "%%time\n",
    "ds_list = []\n",
    "print(f'reading {case}')\n",
    "ds5 = xr.Dataset()\n",
    "for v in variables:\n",
    "    \n",
    "    print(v)   \n",
    "    files = sorted(glob(f'{path}/{case}.pop.h.{v}.024901-031012.nc'))       \n",
    "    dsv=xr.open_mfdataset(files, data_vars=\"minimal\", coords='minimal', compat=\"override\", parallel=True, concat_dim=\"time\",\n",
    "                       drop_variables=[\"transport_components\", \"transport_regions\"], decode_times=True)\n",
    "\n",
    "    ds5 = xr.merge((ds5, dsv))\n",
    "    ds_list.append(ds5)"
   ]
  },
  {
   "cell_type": "code",
   "execution_count": 21,
   "metadata": {},
   "outputs": [],
   "source": [
    "ds5 = ds5.drop([v for v in ds5.variables if v not in keep_vars])"
   ]
  },
  {
   "cell_type": "code",
   "execution_count": 22,
   "metadata": {},
   "outputs": [],
   "source": [
    "#fix time dimension so it's a mean of the timebounds\n",
    "ds5[\"time\"] = ds5.time_bound.compute().mean(dim=\"d2\")"
   ]
  },
  {
   "cell_type": "code",
   "execution_count": 23,
   "metadata": {},
   "outputs": [
    {
     "name": "stdout",
     "output_type": "stream",
     "text": [
      "CPU times: user 6.57 s, sys: 1.35 s, total: 7.92 s\n",
      "Wall time: 6.69 s\n"
     ]
    }
   ],
   "source": [
    "%%time\n",
    "ds5 = ds5.resample({'time':'A'}).mean(dim='time').compute()"
   ]
  },
  {
   "cell_type": "markdown",
   "metadata": {},
   "source": [
    "#### Get 410 ppm part"
   ]
  },
  {
   "cell_type": "code",
   "execution_count": 24,
   "metadata": {},
   "outputs": [],
   "source": [
    "case = 'cesm22cocco.G1850ECOIAF.T62_g17.005'\n",
    "path = '/glade/scratch/kristenk/archive/' + case + '/ocn/proc/tseries/month_1'"
   ]
  },
  {
   "cell_type": "code",
   "execution_count": 25,
   "metadata": {},
   "outputs": [
    {
     "name": "stdout",
     "output_type": "stream",
     "text": [
      "reading cesm22cocco.G1850ECOIAF.T62_g17.005\n",
      "FG_CO2\n",
      "FG_ALT_CO2\n",
      "CPU times: user 585 ms, sys: 24.3 ms, total: 610 ms\n",
      "Wall time: 850 ms\n"
     ]
    }
   ],
   "source": [
    "%%time\n",
    "ds_list = []\n",
    "\n",
    "print(f'reading {case}')\n",
    "ds6 = xr.Dataset()\n",
    "for v in variables:\n",
    "    \n",
    "    print(v)   \n",
    "    files = sorted(glob(f'{path}/{case}.pop.h.{v}.031101-033012.nc'))\n",
    "    \n",
    "    dsv=xr.open_mfdataset(files, data_vars=\"minimal\", coords='minimal', compat=\"override\", parallel=True, concat_dim=\"time\",\n",
    "                       drop_variables=[\"transport_components\", \"transport_regions\"], decode_times=True)\n",
    "\n",
    "    ds6 = xr.merge((ds6, dsv))\n",
    "    ds_list.append(ds6)"
   ]
  },
  {
   "cell_type": "code",
   "execution_count": 26,
   "metadata": {},
   "outputs": [],
   "source": [
    "ds6 = ds6.drop([v for v in ds6.variables if v not in keep_vars])"
   ]
  },
  {
   "cell_type": "code",
   "execution_count": 27,
   "metadata": {},
   "outputs": [],
   "source": [
    "#fix time dimension so it's a mean of the timebounds\n",
    "ds6[\"time\"] = ds6.time_bound.compute().mean(dim=\"d2\")"
   ]
  },
  {
   "cell_type": "code",
   "execution_count": 28,
   "metadata": {},
   "outputs": [
    {
     "name": "stdout",
     "output_type": "stream",
     "text": [
      "CPU times: user 2.17 s, sys: 412 ms, total: 2.58 s\n",
      "Wall time: 2.18 s\n"
     ]
    }
   ],
   "source": [
    "%%time\n",
    "ds6 = ds6.resample({'time':'A'}).mean(dim='time').compute()"
   ]
  },
  {
   "cell_type": "markdown",
   "metadata": {},
   "source": [
    "#### concatenate datasets"
   ]
  },
  {
   "cell_type": "code",
   "execution_count": 29,
   "metadata": {},
   "outputs": [],
   "source": [
    "ds = xr.concat([ds1, ds2, ds3, ds4, ds5], 'time')"
   ]
  },
  {
   "cell_type": "markdown",
   "metadata": {},
   "source": [
    "## Get 2x GCB run"
   ]
  },
  {
   "cell_type": "code",
   "execution_count": 30,
   "metadata": {},
   "outputs": [],
   "source": [
    "case = 'cesm22cocco.G1850ECOIAF.T62_g17.004'\n",
    "#path = '/glade/scratch/kristenk/archive/' + case + '/ocn/proc/tseries/month_1'\n",
    "path = '/glade/campaign/cgd/oce/projects/besome/cesm-cases/' + case + '/ocn/proc/tseries/month_1'"
   ]
  },
  {
   "cell_type": "code",
   "execution_count": 31,
   "metadata": {},
   "outputs": [],
   "source": [
    "variables = ['FG_ALT_CO2']\n",
    "coords = {'x':'TLONG','y':'TLAT'}\n",
    "keepthese = ['z_t','time_bound','TAREA','REGION_MASK', 'time'] + variables\n",
    "keep_vars = keepthese +list(coords.values())+['dz','KMT']"
   ]
  },
  {
   "cell_type": "markdown",
   "metadata": {},
   "source": [
    "#### Get 1st IAF"
   ]
  },
  {
   "cell_type": "code",
   "execution_count": 32,
   "metadata": {},
   "outputs": [
    {
     "name": "stdout",
     "output_type": "stream",
     "text": [
      "reading cesm22cocco.G1850ECOIAF.T62_g17.004\n",
      "FG_ALT_CO2\n",
      "CPU times: user 64.1 ms, sys: 24.6 ms, total: 88.7 ms\n",
      "Wall time: 245 ms\n"
     ]
    }
   ],
   "source": [
    "%%time\n",
    "ds_list = []\n",
    "print(f'reading {case}')\n",
    "ds1 = xr.Dataset()\n",
    "for v in variables:\n",
    "    \n",
    "    print(v)   \n",
    "    files = sorted(glob(f'{path}/{case}.pop.h.{v}.000101-006212.nc'))       \n",
    "    dsv=xr.open_mfdataset(files, data_vars=\"minimal\", coords='minimal', compat=\"override\", parallel=True, concat_dim=\"time\",\n",
    "                       drop_variables=[\"transport_components\", \"transport_regions\"], decode_times=True)\n",
    "\n",
    "    ds1 = xr.merge((ds1, dsv))\n",
    "    ds_list.append(ds1)"
   ]
  },
  {
   "cell_type": "code",
   "execution_count": 33,
   "metadata": {},
   "outputs": [],
   "source": [
    "ds1 = ds1.drop([v for v in ds1.variables if v not in keep_vars])"
   ]
  },
  {
   "cell_type": "code",
   "execution_count": 34,
   "metadata": {},
   "outputs": [],
   "source": [
    "#fix time dimension so it's a mean of the timebounds\n",
    "ds1[\"time\"] = ds1.time_bound.compute().mean(dim=\"d2\")"
   ]
  },
  {
   "cell_type": "code",
   "execution_count": 35,
   "metadata": {},
   "outputs": [
    {
     "name": "stdout",
     "output_type": "stream",
     "text": [
      "CPU times: user 3.32 s, sys: 530 ms, total: 3.85 s\n",
      "Wall time: 3.73 s\n"
     ]
    }
   ],
   "source": [
    "%%time\n",
    "ds1 = ds1.resample({'time':'A'}).mean(dim='time').compute()"
   ]
  },
  {
   "cell_type": "markdown",
   "metadata": {},
   "source": [
    "#### Get 2nd IAF"
   ]
  },
  {
   "cell_type": "code",
   "execution_count": 36,
   "metadata": {},
   "outputs": [
    {
     "name": "stdout",
     "output_type": "stream",
     "text": [
      "reading cesm22cocco.G1850ECOIAF.T62_g17.004\n",
      "FG_ALT_CO2\n",
      "CPU times: user 66.3 ms, sys: 25.9 ms, total: 92.2 ms\n",
      "Wall time: 563 ms\n"
     ]
    }
   ],
   "source": [
    "%%time\n",
    "ds_list = []\n",
    "print(f'reading {case}')\n",
    "ds2 = xr.Dataset()\n",
    "for v in variables:\n",
    "    \n",
    "    print(v)   \n",
    "    files = sorted(glob(f'{path}/{case}.pop.h.{v}.006301-012412.nc'))       \n",
    "    dsv=xr.open_mfdataset(files, data_vars=\"minimal\", coords='minimal', compat=\"override\", parallel=True, concat_dim=\"time\",\n",
    "                       drop_variables=[\"transport_components\", \"transport_regions\"], decode_times=True)\n",
    "\n",
    "    ds2 = xr.merge((ds2, dsv))\n",
    "    ds_list.append(ds2)"
   ]
  },
  {
   "cell_type": "code",
   "execution_count": 37,
   "metadata": {},
   "outputs": [],
   "source": [
    "ds2 = ds2.drop([v for v in ds2.variables if v not in keep_vars])"
   ]
  },
  {
   "cell_type": "code",
   "execution_count": 38,
   "metadata": {},
   "outputs": [],
   "source": [
    "#fix time dimension so it's a mean of the timebounds\n",
    "ds2[\"time\"] = ds2.time_bound.compute().mean(dim=\"d2\")"
   ]
  },
  {
   "cell_type": "code",
   "execution_count": 39,
   "metadata": {},
   "outputs": [
    {
     "name": "stdout",
     "output_type": "stream",
     "text": [
      "CPU times: user 3.32 s, sys: 588 ms, total: 3.91 s\n",
      "Wall time: 3.76 s\n"
     ]
    }
   ],
   "source": [
    "%%time\n",
    "ds2 = ds2.resample({'time':'A'}).mean(dim='time').compute()"
   ]
  },
  {
   "cell_type": "markdown",
   "metadata": {},
   "source": [
    "#### get 3rd IAF"
   ]
  },
  {
   "cell_type": "code",
   "execution_count": 40,
   "metadata": {},
   "outputs": [
    {
     "name": "stdout",
     "output_type": "stream",
     "text": [
      "reading cesm22cocco.G1850ECOIAF.T62_g17.004\n",
      "FG_ALT_CO2\n",
      "CPU times: user 63.4 ms, sys: 36.5 ms, total: 99.9 ms\n",
      "Wall time: 199 ms\n"
     ]
    }
   ],
   "source": [
    "%%time\n",
    "ds_list = []\n",
    "print(f'reading {case}')\n",
    "ds3 = xr.Dataset()\n",
    "for v in variables:\n",
    "    \n",
    "    print(v)   \n",
    "    files = sorted(glob(f'{path}/{case}.pop.h.{v}.012501-018612.nc'))       \n",
    "    dsv=xr.open_mfdataset(files, data_vars=\"minimal\", coords='minimal', compat=\"override\", parallel=True, concat_dim=\"time\",\n",
    "                       drop_variables=[\"transport_components\", \"transport_regions\"], decode_times=True)\n",
    "\n",
    "    ds3 = xr.merge((ds3, dsv))\n",
    "    ds_list.append(ds3)"
   ]
  },
  {
   "cell_type": "code",
   "execution_count": 41,
   "metadata": {},
   "outputs": [],
   "source": [
    "ds3 = ds3.drop([v for v in ds3.variables if v not in keep_vars])"
   ]
  },
  {
   "cell_type": "code",
   "execution_count": 42,
   "metadata": {},
   "outputs": [],
   "source": [
    "#fix time dimension so it's a mean of the timebounds\n",
    "ds3[\"time\"] = ds3.time_bound.compute().mean(dim=\"d2\")"
   ]
  },
  {
   "cell_type": "code",
   "execution_count": 43,
   "metadata": {},
   "outputs": [
    {
     "name": "stdout",
     "output_type": "stream",
     "text": [
      "CPU times: user 3.47 s, sys: 599 ms, total: 4.07 s\n",
      "Wall time: 3.9 s\n"
     ]
    }
   ],
   "source": [
    "%%time\n",
    "ds3 = ds3.resample({'time':'A'}).mean(dim='time').compute()"
   ]
  },
  {
   "cell_type": "markdown",
   "metadata": {},
   "source": [
    "#### 4th IAF"
   ]
  },
  {
   "cell_type": "code",
   "execution_count": 44,
   "metadata": {},
   "outputs": [
    {
     "name": "stdout",
     "output_type": "stream",
     "text": [
      "reading cesm22cocco.G1850ECOIAF.T62_g17.004\n",
      "FG_ALT_CO2\n",
      "CPU times: user 61.8 ms, sys: 26.7 ms, total: 88.5 ms\n",
      "Wall time: 183 ms\n"
     ]
    }
   ],
   "source": [
    "%%time\n",
    "ds_list = []\n",
    "print(f'reading {case}')\n",
    "ds4 = xr.Dataset()\n",
    "for v in variables:\n",
    "    \n",
    "    print(v)   \n",
    "    files = sorted(glob(f'{path}/{case}.pop.h.{v}.018701-024812.nc'))       \n",
    "    dsv=xr.open_mfdataset(files, data_vars=\"minimal\", coords='minimal', compat=\"override\", parallel=True, concat_dim=\"time\",\n",
    "                       drop_variables=[\"transport_components\", \"transport_regions\"], decode_times=True)\n",
    "\n",
    "    ds4 = xr.merge((ds4, dsv))\n",
    "    ds_list.append(ds4)"
   ]
  },
  {
   "cell_type": "code",
   "execution_count": 45,
   "metadata": {},
   "outputs": [],
   "source": [
    "ds4 = ds4.drop([v for v in ds4.variables if v not in keep_vars])"
   ]
  },
  {
   "cell_type": "code",
   "execution_count": 46,
   "metadata": {},
   "outputs": [],
   "source": [
    "#fix time dimension so it's a mean of the timebounds\n",
    "ds4[\"time\"] = ds4.time_bound.compute().mean(dim=\"d2\")"
   ]
  },
  {
   "cell_type": "code",
   "execution_count": 47,
   "metadata": {},
   "outputs": [
    {
     "name": "stdout",
     "output_type": "stream",
     "text": [
      "CPU times: user 3.31 s, sys: 576 ms, total: 3.88 s\n",
      "Wall time: 3.79 s\n"
     ]
    }
   ],
   "source": [
    "%%time\n",
    "ds4 = ds4.resample({'time':'A'}).mean(dim='time').compute()"
   ]
  },
  {
   "cell_type": "markdown",
   "metadata": {},
   "source": [
    "#### 5th IAF"
   ]
  },
  {
   "cell_type": "code",
   "execution_count": 48,
   "metadata": {},
   "outputs": [
    {
     "name": "stdout",
     "output_type": "stream",
     "text": [
      "reading cesm22cocco.G1850ECOIAF.T62_g17.004\n",
      "FG_ALT_CO2\n",
      "CPU times: user 67.7 ms, sys: 25.9 ms, total: 93.7 ms\n",
      "Wall time: 165 ms\n"
     ]
    }
   ],
   "source": [
    "%%time\n",
    "ds_list = []\n",
    "print(f'reading {case}')\n",
    "ds5 = xr.Dataset()\n",
    "for v in variables:\n",
    "    \n",
    "    print(v)   \n",
    "    files = sorted(glob(f'{path}/{case}.pop.h.{v}.024901-031012.nc'))       \n",
    "    dsv=xr.open_mfdataset(files, data_vars=\"minimal\", coords='minimal', compat=\"override\", parallel=True, concat_dim=\"time\",\n",
    "                       drop_variables=[\"transport_components\", \"transport_regions\"], decode_times=True)\n",
    "\n",
    "    ds5 = xr.merge((ds5, dsv))\n",
    "    ds_list.append(ds5)"
   ]
  },
  {
   "cell_type": "code",
   "execution_count": 49,
   "metadata": {},
   "outputs": [],
   "source": [
    "ds5 = ds5.drop([v for v in ds5.variables if v not in keep_vars])"
   ]
  },
  {
   "cell_type": "code",
   "execution_count": 50,
   "metadata": {},
   "outputs": [],
   "source": [
    "#fix time dimension so it's a mean of the timebounds\n",
    "ds5[\"time\"] = ds5.time_bound.compute().mean(dim=\"d2\")"
   ]
  },
  {
   "cell_type": "code",
   "execution_count": 51,
   "metadata": {},
   "outputs": [
    {
     "name": "stdout",
     "output_type": "stream",
     "text": [
      "CPU times: user 3.29 s, sys: 577 ms, total: 3.87 s\n",
      "Wall time: 3.75 s\n"
     ]
    }
   ],
   "source": [
    "%%time\n",
    "ds5 = ds5.resample({'time':'A'}).mean(dim='time').compute()"
   ]
  },
  {
   "cell_type": "markdown",
   "metadata": {},
   "source": [
    "#### high CO2 part"
   ]
  },
  {
   "cell_type": "code",
   "execution_count": 52,
   "metadata": {},
   "outputs": [],
   "source": [
    "case = 'cesm22cocco.G1850ECOIAF.T62_g17.006'\n",
    "path = '/glade/scratch/kristenk/archive/' + case + '/ocn/proc/tseries/month_1'"
   ]
  },
  {
   "cell_type": "code",
   "execution_count": 53,
   "metadata": {},
   "outputs": [
    {
     "name": "stdout",
     "output_type": "stream",
     "text": [
      "reading cesm22cocco.G1850ECOIAF.T62_g17.006\n",
      "FG_ALT_CO2\n",
      "CPU times: user 61.4 ms, sys: 3.44 ms, total: 64.8 ms\n",
      "Wall time: 263 ms\n"
     ]
    }
   ],
   "source": [
    "%%time\n",
    "ds_list = []\n",
    "\n",
    "print(f'reading {case}')\n",
    "ds6 = xr.Dataset()\n",
    "for v in variables:\n",
    "    \n",
    "    print(v)   \n",
    "    files = sorted(glob(f'{path}/{case}.pop.h.{v}.031101-033012.nc'))\n",
    "    \n",
    "    dsv=xr.open_mfdataset(files, data_vars=\"minimal\", coords='minimal', compat=\"override\", parallel=True, concat_dim=\"time\",\n",
    "                       drop_variables=[\"transport_components\", \"transport_regions\"], decode_times=True)\n",
    "\n",
    "    ds6 = xr.merge((ds6, dsv))\n",
    "    ds_list.append(ds6)"
   ]
  },
  {
   "cell_type": "code",
   "execution_count": 54,
   "metadata": {},
   "outputs": [],
   "source": [
    "ds6 = ds6.drop([v for v in ds6.variables if v not in keep_vars])"
   ]
  },
  {
   "cell_type": "code",
   "execution_count": 55,
   "metadata": {},
   "outputs": [],
   "source": [
    "#fix time dimension so it's a mean of the timebounds\n",
    "ds6[\"time\"] = ds6.time_bound.compute().mean(dim=\"d2\")"
   ]
  },
  {
   "cell_type": "code",
   "execution_count": 56,
   "metadata": {},
   "outputs": [
    {
     "name": "stdout",
     "output_type": "stream",
     "text": [
      "CPU times: user 1.15 s, sys: 142 ms, total: 1.29 s\n",
      "Wall time: 1.28 s\n"
     ]
    }
   ],
   "source": [
    "%%time\n",
    "ds6 = ds6.resample({'time':'A'}).mean(dim='time').compute()"
   ]
  },
  {
   "cell_type": "markdown",
   "metadata": {},
   "source": [
    "#### concatenate"
   ]
  },
  {
   "cell_type": "code",
   "execution_count": 57,
   "metadata": {},
   "outputs": [],
   "source": [
    "ds2x = xr.concat([ds1, ds2, ds3, ds4, ds5], 'time')"
   ]
  },
  {
   "cell_type": "markdown",
   "metadata": {},
   "source": [
    "### Get the 100m DLS run"
   ]
  },
  {
   "cell_type": "code",
   "execution_count": 58,
   "metadata": {},
   "outputs": [],
   "source": [
    "case = 'cesm22cocco.G1850ECOIAF.T62_g17.009'\n",
    "#path = '/glade/scratch/kristenk/archive/' + case + '/ocn/proc/tseries/month_1'\n",
    "path = '/glade/campaign/cgd/oce/projects/besome/cesm-cases/' + case + '/ocn/proc/tseries/month_1'"
   ]
  },
  {
   "cell_type": "code",
   "execution_count": 59,
   "metadata": {},
   "outputs": [],
   "source": [
    "variables = ['FG_ALT_CO2']\n",
    "coords = {'x':'TLONG','y':'TLAT'}\n",
    "keepthese = ['z_t','time_bound','TAREA','REGION_MASK', 'time'] + variables\n",
    "keep_vars = keepthese +list(coords.values())+['dz','KMT']"
   ]
  },
  {
   "cell_type": "markdown",
   "metadata": {},
   "source": [
    "#### get 1st IAF"
   ]
  },
  {
   "cell_type": "code",
   "execution_count": 60,
   "metadata": {},
   "outputs": [
    {
     "name": "stdout",
     "output_type": "stream",
     "text": [
      "reading cesm22cocco.G1850ECOIAF.T62_g17.009\n",
      "FG_ALT_CO2\n",
      "CPU times: user 61.2 ms, sys: 20.5 ms, total: 81.7 ms\n",
      "Wall time: 189 ms\n"
     ]
    }
   ],
   "source": [
    "%%time\n",
    "ds_list = []\n",
    "print(f'reading {case}')\n",
    "ds1 = xr.Dataset()\n",
    "for v in variables:\n",
    "    \n",
    "    print(v)   \n",
    "    files = sorted(glob(f'{path}/{case}.pop.h.{v}.000101-006212.nc'))       \n",
    "    dsv=xr.open_mfdataset(files, data_vars=\"minimal\", coords='minimal', compat=\"override\", parallel=True, concat_dim=\"time\",\n",
    "                       drop_variables=[\"transport_components\", \"transport_regions\"], decode_times=True)\n",
    "\n",
    "    ds1 = xr.merge((ds1, dsv))\n",
    "    ds_list.append(ds1)"
   ]
  },
  {
   "cell_type": "code",
   "execution_count": 61,
   "metadata": {},
   "outputs": [],
   "source": [
    "ds1 = ds1.drop([v for v in ds1.variables if v not in keep_vars])"
   ]
  },
  {
   "cell_type": "code",
   "execution_count": 62,
   "metadata": {},
   "outputs": [],
   "source": [
    "#fix time dimension so it's a mean of the timebounds\n",
    "ds1[\"time\"] = ds1.time_bound.compute().mean(dim=\"d2\")"
   ]
  },
  {
   "cell_type": "code",
   "execution_count": 63,
   "metadata": {},
   "outputs": [
    {
     "name": "stdout",
     "output_type": "stream",
     "text": [
      "CPU times: user 3.4 s, sys: 546 ms, total: 3.94 s\n",
      "Wall time: 3.83 s\n"
     ]
    }
   ],
   "source": [
    "%%time\n",
    "ds1 = ds1.resample({'time':'A'}).mean(dim='time').compute()"
   ]
  },
  {
   "cell_type": "markdown",
   "metadata": {},
   "source": [
    "#### get 2nd IAF"
   ]
  },
  {
   "cell_type": "code",
   "execution_count": 64,
   "metadata": {},
   "outputs": [
    {
     "name": "stdout",
     "output_type": "stream",
     "text": [
      "reading cesm22cocco.G1850ECOIAF.T62_g17.009\n",
      "FG_ALT_CO2\n",
      "CPU times: user 63.1 ms, sys: 17.9 ms, total: 81 ms\n",
      "Wall time: 267 ms\n"
     ]
    }
   ],
   "source": [
    "%%time\n",
    "ds_list = []\n",
    "print(f'reading {case}')\n",
    "ds2 = xr.Dataset()\n",
    "for v in variables:\n",
    "    \n",
    "    print(v)   \n",
    "    files = sorted(glob(f'{path}/{case}.pop.h.{v}.006301-012412.nc'))       \n",
    "    dsv=xr.open_mfdataset(files, data_vars=\"minimal\", coords='minimal', compat=\"override\", parallel=True, concat_dim=\"time\",\n",
    "                       drop_variables=[\"transport_components\", \"transport_regions\"], decode_times=True)\n",
    "\n",
    "    ds2 = xr.merge((ds2, dsv))\n",
    "    ds_list.append(ds2)"
   ]
  },
  {
   "cell_type": "code",
   "execution_count": 65,
   "metadata": {},
   "outputs": [],
   "source": [
    "ds2 = ds2.drop([v for v in ds2.variables if v not in keep_vars])"
   ]
  },
  {
   "cell_type": "code",
   "execution_count": 66,
   "metadata": {},
   "outputs": [],
   "source": [
    "#fix time dimension so it's a mean of the timebounds\n",
    "ds2[\"time\"] = ds2.time_bound.compute().mean(dim=\"d2\")"
   ]
  },
  {
   "cell_type": "code",
   "execution_count": 67,
   "metadata": {},
   "outputs": [
    {
     "name": "stdout",
     "output_type": "stream",
     "text": [
      "CPU times: user 3.25 s, sys: 560 ms, total: 3.81 s\n",
      "Wall time: 3.66 s\n"
     ]
    }
   ],
   "source": [
    "%%time\n",
    "ds2 = ds2.resample({'time':'A'}).mean(dim='time').compute()"
   ]
  },
  {
   "cell_type": "markdown",
   "metadata": {},
   "source": [
    "#### get 3rd IAF"
   ]
  },
  {
   "cell_type": "code",
   "execution_count": 68,
   "metadata": {},
   "outputs": [
    {
     "name": "stdout",
     "output_type": "stream",
     "text": [
      "reading cesm22cocco.G1850ECOIAF.T62_g17.009\n",
      "FG_ALT_CO2\n",
      "CPU times: user 65.1 ms, sys: 23.2 ms, total: 88.3 ms\n",
      "Wall time: 228 ms\n"
     ]
    }
   ],
   "source": [
    "%%time\n",
    "ds_list = []\n",
    "print(f'reading {case}')\n",
    "ds3 = xr.Dataset()\n",
    "for v in variables:\n",
    "    \n",
    "    print(v)   \n",
    "    files = sorted(glob(f'{path}/{case}.pop.h.{v}.012501-018612.nc'))       \n",
    "    dsv=xr.open_mfdataset(files, data_vars=\"minimal\", coords='minimal', compat=\"override\", parallel=True, concat_dim=\"time\",\n",
    "                       drop_variables=[\"transport_components\", \"transport_regions\"], decode_times=True)\n",
    "\n",
    "    ds3 = xr.merge((ds3, dsv))\n",
    "    ds_list.append(ds3)"
   ]
  },
  {
   "cell_type": "code",
   "execution_count": 69,
   "metadata": {},
   "outputs": [],
   "source": [
    "ds3 = ds3.drop([v for v in ds3.variables if v not in keep_vars])"
   ]
  },
  {
   "cell_type": "code",
   "execution_count": 70,
   "metadata": {},
   "outputs": [],
   "source": [
    "#fix time dimension so it's a mean of the timebounds\n",
    "ds3[\"time\"] = ds3.time_bound.compute().mean(dim=\"d2\")"
   ]
  },
  {
   "cell_type": "code",
   "execution_count": 71,
   "metadata": {},
   "outputs": [
    {
     "name": "stdout",
     "output_type": "stream",
     "text": [
      "CPU times: user 3.72 s, sys: 595 ms, total: 4.32 s\n",
      "Wall time: 4.17 s\n"
     ]
    }
   ],
   "source": [
    "%%time\n",
    "ds3 = ds3.resample({'time':'A'}).mean(dim='time').compute()"
   ]
  },
  {
   "cell_type": "markdown",
   "metadata": {},
   "source": [
    "#### get 4th IAF"
   ]
  },
  {
   "cell_type": "code",
   "execution_count": 72,
   "metadata": {},
   "outputs": [
    {
     "name": "stdout",
     "output_type": "stream",
     "text": [
      "reading cesm22cocco.G1850ECOIAF.T62_g17.009\n",
      "FG_ALT_CO2\n",
      "CPU times: user 64.8 ms, sys: 25.8 ms, total: 90.6 ms\n",
      "Wall time: 174 ms\n"
     ]
    }
   ],
   "source": [
    "%%time\n",
    "ds_list = []\n",
    "print(f'reading {case}')\n",
    "ds4 = xr.Dataset()\n",
    "for v in variables:\n",
    "    \n",
    "    print(v)   \n",
    "    files = sorted(glob(f'{path}/{case}.pop.h.{v}.018701-024812.nc'))       \n",
    "    dsv=xr.open_mfdataset(files, data_vars=\"minimal\", coords='minimal', compat=\"override\", parallel=True, concat_dim=\"time\",\n",
    "                       drop_variables=[\"transport_components\", \"transport_regions\"], decode_times=True)\n",
    "\n",
    "    ds4 = xr.merge((ds4, dsv))\n",
    "    ds_list.append(ds4)"
   ]
  },
  {
   "cell_type": "code",
   "execution_count": 73,
   "metadata": {},
   "outputs": [],
   "source": [
    "ds4 = ds4.drop([v for v in ds4.variables if v not in keep_vars])"
   ]
  },
  {
   "cell_type": "code",
   "execution_count": 74,
   "metadata": {},
   "outputs": [],
   "source": [
    "#fix time dimension so it's a mean of the timebounds\n",
    "ds4[\"time\"] = ds4.time_bound.compute().mean(dim=\"d2\")"
   ]
  },
  {
   "cell_type": "code",
   "execution_count": 75,
   "metadata": {},
   "outputs": [
    {
     "name": "stdout",
     "output_type": "stream",
     "text": [
      "CPU times: user 3.32 s, sys: 551 ms, total: 3.87 s\n",
      "Wall time: 3.7 s\n"
     ]
    }
   ],
   "source": [
    "%%time\n",
    "ds4 = ds4.resample({'time':'A'}).mean(dim='time').compute()"
   ]
  },
  {
   "cell_type": "markdown",
   "metadata": {},
   "source": [
    "#### get 5th IAF"
   ]
  },
  {
   "cell_type": "code",
   "execution_count": 76,
   "metadata": {},
   "outputs": [
    {
     "name": "stdout",
     "output_type": "stream",
     "text": [
      "reading cesm22cocco.G1850ECOIAF.T62_g17.009\n",
      "FG_ALT_CO2\n",
      "CPU times: user 62.6 ms, sys: 18.3 ms, total: 80.9 ms\n",
      "Wall time: 176 ms\n"
     ]
    }
   ],
   "source": [
    "%%time\n",
    "ds_list = []\n",
    "print(f'reading {case}')\n",
    "ds5 = xr.Dataset()\n",
    "for v in variables:\n",
    "    \n",
    "    print(v)   \n",
    "    files = sorted(glob(f'{path}/{case}.pop.h.{v}.024901-031012.nc'))       \n",
    "    dsv=xr.open_mfdataset(files, data_vars=\"minimal\", coords='minimal', compat=\"override\", parallel=True, concat_dim=\"time\",\n",
    "                       drop_variables=[\"transport_components\", \"transport_regions\"], decode_times=True)\n",
    "\n",
    "    ds5 = xr.merge((ds5, dsv))\n",
    "    ds_list.append(ds5)"
   ]
  },
  {
   "cell_type": "code",
   "execution_count": 77,
   "metadata": {},
   "outputs": [],
   "source": [
    "ds5 = ds5.drop([v for v in ds5.variables if v not in keep_vars])"
   ]
  },
  {
   "cell_type": "code",
   "execution_count": 78,
   "metadata": {},
   "outputs": [],
   "source": [
    "#fix time dimension so it's a mean of the timebounds\n",
    "ds5[\"time\"] = ds5.time_bound.compute().mean(dim=\"d2\")"
   ]
  },
  {
   "cell_type": "code",
   "execution_count": 79,
   "metadata": {},
   "outputs": [
    {
     "name": "stdout",
     "output_type": "stream",
     "text": [
      "CPU times: user 3.36 s, sys: 532 ms, total: 3.9 s\n",
      "Wall time: 3.74 s\n"
     ]
    }
   ],
   "source": [
    "%%time\n",
    "ds5 = ds5.resample({'time':'A'}).mean(dim='time').compute()"
   ]
  },
  {
   "cell_type": "markdown",
   "metadata": {},
   "source": [
    "#### concatenate datasets"
   ]
  },
  {
   "cell_type": "code",
   "execution_count": 80,
   "metadata": {},
   "outputs": [],
   "source": [
    "ds100mDSL = xr.concat([ds1, ds2, ds3, ds4, ds5], 'time')"
   ]
  },
  {
   "cell_type": "markdown",
   "metadata": {},
   "source": [
    "### Get the 1000m DLS run/"
   ]
  },
  {
   "cell_type": "code",
   "execution_count": 81,
   "metadata": {},
   "outputs": [],
   "source": [
    "case = 'cesm22cocco.G1850ECOIAF.T62_g17.010'\n",
    "#path = '/glade/scratch/kristenk/archive/' + case + '/ocn/proc/tseries/month_1'\n",
    "path = '/glade/campaign/cgd/oce/projects/besome/cesm-cases/' + case + '/ocn/proc/tseries/month_1'"
   ]
  },
  {
   "cell_type": "code",
   "execution_count": 82,
   "metadata": {},
   "outputs": [],
   "source": [
    "variables = ['FG_ALT_CO2']\n",
    "coords = {'x':'TLONG','y':'TLAT'}\n",
    "keepthese = ['z_t','time_bound','TAREA','REGION_MASK', 'time'] + variables\n",
    "keep_vars = keepthese +list(coords.values())+['dz','KMT']"
   ]
  },
  {
   "cell_type": "markdown",
   "metadata": {},
   "source": [
    "#### get 1st IAF"
   ]
  },
  {
   "cell_type": "code",
   "execution_count": 83,
   "metadata": {},
   "outputs": [
    {
     "name": "stdout",
     "output_type": "stream",
     "text": [
      "reading cesm22cocco.G1850ECOIAF.T62_g17.010\n",
      "FG_ALT_CO2\n",
      "CPU times: user 66.2 ms, sys: 18.8 ms, total: 85 ms\n",
      "Wall time: 252 ms\n"
     ]
    }
   ],
   "source": [
    "%%time\n",
    "ds_list = []\n",
    "print(f'reading {case}')\n",
    "ds1 = xr.Dataset()\n",
    "for v in variables:\n",
    "    \n",
    "    print(v)   \n",
    "    files = sorted(glob(f'{path}/{case}.pop.h.{v}.000101-006212.nc'))       \n",
    "    dsv=xr.open_mfdataset(files, data_vars=\"minimal\", coords='minimal', compat=\"override\", parallel=True, concat_dim=\"time\",\n",
    "                       drop_variables=[\"transport_components\", \"transport_regions\"], decode_times=True)\n",
    "\n",
    "    ds1 = xr.merge((ds1, dsv))\n",
    "    ds_list.append(ds1)"
   ]
  },
  {
   "cell_type": "code",
   "execution_count": 84,
   "metadata": {},
   "outputs": [],
   "source": [
    "ds1 = ds1.drop([v for v in ds1.variables if v not in keep_vars])"
   ]
  },
  {
   "cell_type": "code",
   "execution_count": 85,
   "metadata": {},
   "outputs": [],
   "source": [
    "#fix time dimension so it's a mean of the timebounds\n",
    "ds1[\"time\"] = ds1.time_bound.compute().mean(dim=\"d2\")"
   ]
  },
  {
   "cell_type": "code",
   "execution_count": 86,
   "metadata": {},
   "outputs": [
    {
     "name": "stdout",
     "output_type": "stream",
     "text": [
      "CPU times: user 3.29 s, sys: 577 ms, total: 3.87 s\n",
      "Wall time: 3.73 s\n"
     ]
    }
   ],
   "source": [
    "%%time\n",
    "ds1 = ds1.resample({'time':'A'}).mean(dim='time').compute()"
   ]
  },
  {
   "cell_type": "markdown",
   "metadata": {},
   "source": [
    "#### get 2nd IAF"
   ]
  },
  {
   "cell_type": "code",
   "execution_count": 87,
   "metadata": {},
   "outputs": [
    {
     "name": "stdout",
     "output_type": "stream",
     "text": [
      "reading cesm22cocco.G1850ECOIAF.T62_g17.010\n",
      "FG_ALT_CO2\n",
      "CPU times: user 66.4 ms, sys: 27.9 ms, total: 94.3 ms\n",
      "Wall time: 224 ms\n"
     ]
    }
   ],
   "source": [
    "%%time\n",
    "ds_list = []\n",
    "print(f'reading {case}')\n",
    "ds2 = xr.Dataset()\n",
    "for v in variables:\n",
    "    \n",
    "    print(v)   \n",
    "    files = sorted(glob(f'{path}/{case}.pop.h.{v}.006301-012412.nc'))       \n",
    "    dsv=xr.open_mfdataset(files, data_vars=\"minimal\", coords='minimal', compat=\"override\", parallel=True, concat_dim=\"time\",\n",
    "                       drop_variables=[\"transport_components\", \"transport_regions\"], decode_times=True)\n",
    "\n",
    "    ds2 = xr.merge((ds2, dsv))\n",
    "    ds_list.append(ds2)"
   ]
  },
  {
   "cell_type": "code",
   "execution_count": 88,
   "metadata": {},
   "outputs": [],
   "source": [
    "ds2 = ds2.drop([v for v in ds2.variables if v not in keep_vars])"
   ]
  },
  {
   "cell_type": "code",
   "execution_count": 89,
   "metadata": {},
   "outputs": [],
   "source": [
    "#fix time dimension so it's a mean of the timebounds\n",
    "ds2[\"time\"] = ds2.time_bound.compute().mean(dim=\"d2\")"
   ]
  },
  {
   "cell_type": "code",
   "execution_count": 90,
   "metadata": {},
   "outputs": [
    {
     "name": "stdout",
     "output_type": "stream",
     "text": [
      "CPU times: user 3.33 s, sys: 552 ms, total: 3.88 s\n",
      "Wall time: 3.7 s\n"
     ]
    }
   ],
   "source": [
    "%%time\n",
    "ds2 = ds2.resample({'time':'A'}).mean(dim='time').compute()"
   ]
  },
  {
   "cell_type": "markdown",
   "metadata": {},
   "source": [
    "#### get 3rd IAF"
   ]
  },
  {
   "cell_type": "code",
   "execution_count": 91,
   "metadata": {},
   "outputs": [
    {
     "name": "stdout",
     "output_type": "stream",
     "text": [
      "reading cesm22cocco.G1850ECOIAF.T62_g17.010\n",
      "FG_ALT_CO2\n",
      "CPU times: user 61.3 ms, sys: 17.7 ms, total: 79 ms\n",
      "Wall time: 203 ms\n"
     ]
    }
   ],
   "source": [
    "%%time\n",
    "ds_list = []\n",
    "print(f'reading {case}')\n",
    "ds3 = xr.Dataset()\n",
    "for v in variables:\n",
    "    \n",
    "    print(v)   \n",
    "    files = sorted(glob(f'{path}/{case}.pop.h.{v}.012501-018612.nc'))       \n",
    "    dsv=xr.open_mfdataset(files, data_vars=\"minimal\", coords='minimal', compat=\"override\", parallel=True, concat_dim=\"time\",\n",
    "                       drop_variables=[\"transport_components\", \"transport_regions\"], decode_times=True)\n",
    "\n",
    "    ds3 = xr.merge((ds3, dsv))\n",
    "    ds_list.append(ds3)"
   ]
  },
  {
   "cell_type": "code",
   "execution_count": 92,
   "metadata": {},
   "outputs": [],
   "source": [
    "ds3 = ds3.drop([v for v in ds3.variables if v not in keep_vars])"
   ]
  },
  {
   "cell_type": "code",
   "execution_count": 93,
   "metadata": {},
   "outputs": [],
   "source": [
    "#fix time dimension so it's a mean of the timebounds\n",
    "ds3[\"time\"] = ds3.time_bound.compute().mean(dim=\"d2\")"
   ]
  },
  {
   "cell_type": "code",
   "execution_count": 94,
   "metadata": {},
   "outputs": [
    {
     "name": "stdout",
     "output_type": "stream",
     "text": [
      "CPU times: user 3.36 s, sys: 548 ms, total: 3.91 s\n",
      "Wall time: 3.77 s\n"
     ]
    }
   ],
   "source": [
    "%%time\n",
    "ds3 = ds3.resample({'time':'A'}).mean(dim='time').compute()"
   ]
  },
  {
   "cell_type": "markdown",
   "metadata": {},
   "source": [
    "#### get 4th IAF"
   ]
  },
  {
   "cell_type": "code",
   "execution_count": 95,
   "metadata": {},
   "outputs": [
    {
     "name": "stdout",
     "output_type": "stream",
     "text": [
      "reading cesm22cocco.G1850ECOIAF.T62_g17.010\n",
      "FG_ALT_CO2\n",
      "CPU times: user 59.5 ms, sys: 22 ms, total: 81.5 ms\n",
      "Wall time: 228 ms\n"
     ]
    }
   ],
   "source": [
    "%%time\n",
    "ds_list = []\n",
    "print(f'reading {case}')\n",
    "ds4 = xr.Dataset()\n",
    "for v in variables:\n",
    "    \n",
    "    print(v)   \n",
    "    files = sorted(glob(f'{path}/{case}.pop.h.{v}.018701-024812.nc'))       \n",
    "    dsv=xr.open_mfdataset(files, data_vars=\"minimal\", coords='minimal', compat=\"override\", parallel=True, concat_dim=\"time\",\n",
    "                       drop_variables=[\"transport_components\", \"transport_regions\"], decode_times=True)\n",
    "\n",
    "    ds4 = xr.merge((ds4, dsv))\n",
    "    ds_list.append(ds4)"
   ]
  },
  {
   "cell_type": "code",
   "execution_count": 96,
   "metadata": {},
   "outputs": [],
   "source": [
    "ds4 = ds4.drop([v for v in ds4.variables if v not in keep_vars])"
   ]
  },
  {
   "cell_type": "code",
   "execution_count": 97,
   "metadata": {},
   "outputs": [],
   "source": [
    "#fix time dimension so it's a mean of the timebounds\n",
    "ds4[\"time\"] = ds4.time_bound.compute().mean(dim=\"d2\")"
   ]
  },
  {
   "cell_type": "code",
   "execution_count": 98,
   "metadata": {},
   "outputs": [
    {
     "name": "stdout",
     "output_type": "stream",
     "text": [
      "CPU times: user 3.3 s, sys: 538 ms, total: 3.84 s\n",
      "Wall time: 3.68 s\n"
     ]
    }
   ],
   "source": [
    "%%time\n",
    "ds4 = ds4.resample({'time':'A'}).mean(dim='time').compute()"
   ]
  },
  {
   "cell_type": "markdown",
   "metadata": {},
   "source": [
    "#### get 5th IAF"
   ]
  },
  {
   "cell_type": "code",
   "execution_count": 99,
   "metadata": {},
   "outputs": [
    {
     "name": "stdout",
     "output_type": "stream",
     "text": [
      "reading cesm22cocco.G1850ECOIAF.T62_g17.010\n",
      "FG_ALT_CO2\n",
      "CPU times: user 67 ms, sys: 16.2 ms, total: 83.2 ms\n",
      "Wall time: 232 ms\n"
     ]
    }
   ],
   "source": [
    "%%time\n",
    "ds_list = []\n",
    "print(f'reading {case}')\n",
    "ds5 = xr.Dataset()\n",
    "for v in variables:\n",
    "    \n",
    "    print(v)   \n",
    "    files = sorted(glob(f'{path}/{case}.pop.h.{v}.024901-031012.nc'))       \n",
    "    dsv=xr.open_mfdataset(files, data_vars=\"minimal\", coords='minimal', compat=\"override\", parallel=True, concat_dim=\"time\",\n",
    "                       drop_variables=[\"transport_components\", \"transport_regions\"], decode_times=True)\n",
    "\n",
    "    ds5 = xr.merge((ds5, dsv))\n",
    "    ds_list.append(ds5)"
   ]
  },
  {
   "cell_type": "code",
   "execution_count": 100,
   "metadata": {},
   "outputs": [],
   "source": [
    "ds5 = ds5.drop([v for v in ds5.variables if v not in keep_vars])"
   ]
  },
  {
   "cell_type": "code",
   "execution_count": 101,
   "metadata": {},
   "outputs": [],
   "source": [
    "#fix time dimension so it's a mean of the timebounds\n",
    "ds5[\"time\"] = ds5.time_bound.compute().mean(dim=\"d2\")"
   ]
  },
  {
   "cell_type": "code",
   "execution_count": 102,
   "metadata": {},
   "outputs": [
    {
     "name": "stdout",
     "output_type": "stream",
     "text": [
      "CPU times: user 3.35 s, sys: 589 ms, total: 3.94 s\n",
      "Wall time: 3.8 s\n"
     ]
    }
   ],
   "source": [
    "%%time\n",
    "ds5 = ds5.resample({'time':'A'}).mean(dim='time').compute()"
   ]
  },
  {
   "cell_type": "markdown",
   "metadata": {},
   "source": [
    "#### concatenate datasets"
   ]
  },
  {
   "cell_type": "code",
   "execution_count": 103,
   "metadata": {},
   "outputs": [],
   "source": [
    "ds1000mDSL = xr.concat([ds1, ds2, ds3, ds4, ds5], 'time')"
   ]
  },
  {
   "cell_type": "markdown",
   "metadata": {},
   "source": [
    "#### get the WOA"
   ]
  },
  {
   "cell_type": "code",
   "execution_count": 104,
   "metadata": {},
   "outputs": [],
   "source": [
    "file = '/glade/work/kristenk/WOA_data/regrid_POP/WOA2013_POPgrid.nc'\n",
    "ds_woa = xr.load_dataset(file, decode_times=False, decode_coords=False)"
   ]
  },
  {
   "cell_type": "code",
   "execution_count": 105,
   "metadata": {},
   "outputs": [
    {
     "data": {
      "text/plain": [
       "310"
      ]
     },
     "execution_count": 105,
     "metadata": {},
     "output_type": "execute_result"
    }
   ],
   "source": [
    "ds_woa['z_t'] = ds1.z_t\n",
    "tlen=len(ds.time)\n",
    "tlen"
   ]
  },
  {
   "cell_type": "code",
   "execution_count": 106,
   "metadata": {},
   "outputs": [],
   "source": [
    "lons=ds_woa.TLONG\n",
    "lats=ds_woa.TLAT\n",
    "area=ds_woa.TAREA\n",
    "area_m=ds_woa.TAREA * 1.e-4\n",
    "depths=ds_woa.z_t * 0.01\n",
    "years = np.arange(1,tlen+1)\n",
    "z_top=depths[0:40]\n",
    "z_bottom=depths[40:60]"
   ]
  },
  {
   "cell_type": "markdown",
   "metadata": {},
   "source": [
    "#### Get major basin masks"
   ]
  },
  {
   "cell_type": "code",
   "execution_count": 107,
   "metadata": {},
   "outputs": [],
   "source": [
    "grid_name = 'POP_gx1v7'\n",
    "\n",
    "region_mask='Pacific-Indian-Atlantic'\n",
    "mask3d_basins = pop_tools.region_mask_3d(grid_name, mask_name=region_mask)\n",
    "\n",
    "region_mask='lat-range-basin'\n",
    "mask3d_regs = pop_tools.region_mask_3d(grid_name, mask_name=region_mask) #southern ocean is reg 1"
   ]
  },
  {
   "cell_type": "markdown",
   "metadata": {},
   "source": [
    "#### Global timeseries"
   ]
  },
  {
   "cell_type": "code",
   "execution_count": 108,
   "metadata": {},
   "outputs": [
    {
     "name": "stdout",
     "output_type": "stream",
     "text": [
      "CPU times: user 832 ms, sys: 1.31 s, total: 2.14 s\n",
      "Wall time: 2.14 s\n"
     ]
    }
   ],
   "source": [
    "%%time\n",
    "ts_global = xr.Dataset({v: ds[v] for v in ['time']})\n",
    "ts_global['FG_CO2'] = esmlab.weighted_sum(ds['FG_CO2'], weights=area_m, dim=['nlat', 'nlon']).compute()\n",
    "ts_global['FG_ALT_CO2_noGCB'] = esmlab.weighted_sum(ds['FG_ALT_CO2'], weights=area_m, dim=['nlat', 'nlon']).compute()"
   ]
  },
  {
   "cell_type": "code",
   "execution_count": 109,
   "metadata": {},
   "outputs": [],
   "source": [
    "convert_PgC_yr = 0.01 * 0.001 * 12.011 *1e-15 *86400 * 365"
   ]
  },
  {
   "cell_type": "code",
   "execution_count": 110,
   "metadata": {},
   "outputs": [],
   "source": [
    "ts_global['FG_CO2'] = ts_global['FG_CO2'] * convert_PgC_yr * -1."
   ]
  },
  {
   "cell_type": "code",
   "execution_count": 111,
   "metadata": {},
   "outputs": [],
   "source": [
    "ts_global['FG_ALT_CO2_noGCB'] = ts_global['FG_ALT_CO2_noGCB'] * convert_PgC_yr * -1."
   ]
  },
  {
   "cell_type": "code",
   "execution_count": 112,
   "metadata": {},
   "outputs": [],
   "source": [
    "ts_global['FG_ALT_CO2_2xGCB'] = esmlab.weighted_sum(ds2x['FG_ALT_CO2'], weights=area_m, dim=['nlat', 'nlon']).compute()"
   ]
  },
  {
   "cell_type": "code",
   "execution_count": 113,
   "metadata": {},
   "outputs": [],
   "source": [
    "ts_global['FG_ALT_CO2_2xGCB'] = ts_global['FG_ALT_CO2_2xGCB'] * convert_PgC_yr * -1."
   ]
  },
  {
   "cell_type": "code",
   "execution_count": 114,
   "metadata": {},
   "outputs": [],
   "source": [
    "ts_global['FG_ALT_CO2_100mDLS'] = esmlab.weighted_sum(ds100mDSL['FG_ALT_CO2'], weights=area_m, dim=['nlat', 'nlon']).compute()"
   ]
  },
  {
   "cell_type": "code",
   "execution_count": 115,
   "metadata": {},
   "outputs": [],
   "source": [
    "ts_global['FG_ALT_CO2_100mDLS'] = ts_global['FG_ALT_CO2_100mDLS'] * convert_PgC_yr * -1."
   ]
  },
  {
   "cell_type": "code",
   "execution_count": 116,
   "metadata": {},
   "outputs": [],
   "source": [
    "ts_global['FG_ALT_CO2_1000mDLS'] = esmlab.weighted_sum(ds1000mDSL['FG_ALT_CO2'], weights=area_m, dim=['nlat', 'nlon']).compute()"
   ]
  },
  {
   "cell_type": "code",
   "execution_count": 117,
   "metadata": {},
   "outputs": [],
   "source": [
    "ts_global['FG_ALT_CO2_1000mDLS'] = ts_global['FG_ALT_CO2_1000mDLS'] * convert_PgC_yr * -1."
   ]
  },
  {
   "cell_type": "code",
   "execution_count": 118,
   "metadata": {},
   "outputs": [],
   "source": [
    "years = xr.DataArray(years,dims='time')"
   ]
  },
  {
   "cell_type": "markdown",
   "metadata": {},
   "source": [
    "#### calculate drift over the last 2 IAF cycles"
   ]
  },
  {
   "cell_type": "markdown",
   "metadata": {},
   "source": [
    "control"
   ]
  },
  {
   "cell_type": "code",
   "execution_count": 119,
   "metadata": {},
   "outputs": [
    {
     "data": {
      "text/plain": [
       "0.00139598097831647"
      ]
     },
     "execution_count": 119,
     "metadata": {},
     "output_type": "execute_result"
    }
   ],
   "source": [
    "slope, intercept, r_value, p_value, std_err = stats.linregress(years.isel(time=slice(186,310)),ts_global['FG_CO2'].isel(time=slice(186,310)))\n",
    "slope"
   ]
  },
  {
   "cell_type": "code",
   "execution_count": 120,
   "metadata": {},
   "outputs": [],
   "source": [
    "drift_fg_co2 = np.empty([124])\n",
    "t=0\n",
    "for i in np.arange(186,310,1):\n",
    "    drift_fg_co2[t] = slope * i + intercept\n",
    "    t=t+1"
   ]
  },
  {
   "cell_type": "markdown",
   "metadata": {},
   "source": [
    "noGCB"
   ]
  },
  {
   "cell_type": "code",
   "execution_count": 121,
   "metadata": {},
   "outputs": [
    {
     "data": {
      "text/plain": [
       "0.0015041484115913897"
      ]
     },
     "execution_count": 121,
     "metadata": {},
     "output_type": "execute_result"
    }
   ],
   "source": [
    "slope, intercept, r_value, p_value, std_err = stats.linregress(years.isel(time=slice(186,310)),ts_global['FG_ALT_CO2_noGCB'].isel(time=slice(186,310)))\n",
    "slope"
   ]
  },
  {
   "cell_type": "markdown",
   "metadata": {},
   "source": [
    "2xGCB"
   ]
  },
  {
   "cell_type": "code",
   "execution_count": 122,
   "metadata": {},
   "outputs": [
    {
     "data": {
      "text/plain": [
       "0.0012836887936878573"
      ]
     },
     "execution_count": 122,
     "metadata": {},
     "output_type": "execute_result"
    }
   ],
   "source": [
    "slope, intercept, r_value, p_value, std_err = stats.linregress(years.isel(time=slice(186,310)),ts_global['FG_ALT_CO2_2xGCB'].isel(time=slice(186,310)))\n",
    "slope"
   ]
  },
  {
   "cell_type": "markdown",
   "metadata": {},
   "source": [
    "100mDLS"
   ]
  },
  {
   "cell_type": "code",
   "execution_count": 123,
   "metadata": {},
   "outputs": [
    {
     "data": {
      "text/plain": [
       "0.0014509882362856532"
      ]
     },
     "execution_count": 123,
     "metadata": {},
     "output_type": "execute_result"
    }
   ],
   "source": [
    "slope, intercept, r_value, p_value, std_err = stats.linregress(years.isel(time=slice(186,310)),ts_global['FG_ALT_CO2_100mDLS'].isel(time=slice(186,310)))\n",
    "slope"
   ]
  },
  {
   "cell_type": "markdown",
   "metadata": {},
   "source": [
    "1000mDLS"
   ]
  },
  {
   "cell_type": "code",
   "execution_count": 124,
   "metadata": {},
   "outputs": [
    {
     "data": {
      "text/plain": [
       "0.0014065188696986374"
      ]
     },
     "execution_count": 124,
     "metadata": {},
     "output_type": "execute_result"
    }
   ],
   "source": [
    "slope, intercept, r_value, p_value, std_err = stats.linregress(years.isel(time=slice(186,310)),ts_global['FG_ALT_CO2_1000mDLS'].isel(time=slice(186,310)))\n",
    "slope"
   ]
  },
  {
   "cell_type": "code",
   "execution_count": 125,
   "metadata": {},
   "outputs": [
    {
     "data": {
      "text/plain": [
       "<matplotlib.legend.Legend at 0x2b70d9268cd0>"
      ]
     },
     "execution_count": 125,
     "metadata": {},
     "output_type": "execute_result"
    },
    {
     "data": {
      "image/png": "[encoded data removed]",
      "text/plain": [
       "<Figure size 1600x500 with 1 Axes>"
      ]
     },
     "metadata": {},
     "output_type": "display_data"
    }
   ],
   "source": [
    "fig = plt.figure(figsize=(16,5))\n",
    "\n",
    "ax = fig.add_subplot(1,1,1)\n",
    "ax.set_title('Globally integrated air-sea CO2 flux (negative = into the ocean)')\n",
    "ax.plot(years,ts_global['FG_CO2'],color='blue', label='control')\n",
    "ax.plot(years,ts_global['FG_ALT_CO2_noGCB'],color='red', label='noGCB')\n",
    "ax.plot(years,ts_global['FG_ALT_CO2_2xGCB'],color='green', label='2xGCB')\n",
    "ax.plot(years,ts_global['FG_ALT_CO2_100mDLS'],color='orange', label='100mDLS')\n",
    "ax.plot(years,ts_global['FG_ALT_CO2_1000mDLS'],color='purple', label='1000mDLS')\n",
    "\n",
    "ax.plot(years.isel(time=slice(186,310)),drift_fg_co2,'--', label='control drift')\n",
    "\n",
    "ax.set(ylabel='air-sea CO2 flux (Pg C yr$^{-1}$)',xlabel='year of simulation')\n",
    "ax.legend()"
   ]
  },
  {
   "cell_type": "code",
   "execution_count": 126,
   "metadata": {},
   "outputs": [
    {
     "data": {
      "text/plain": [
       "<matplotlib.legend.Legend at 0x2b70d9978dd0>"
      ]
     },
     "execution_count": 126,
     "metadata": {},
     "output_type": "execute_result"
    },
    {
     "data": {
      "image/png": "[encoded data removed]",
      "text/plain": [
       "<Figure size 1600x500 with 1 Axes>"
      ]
     },
     "metadata": {},
     "output_type": "display_data"
    }
   ],
   "source": [
    "fig = plt.figure(figsize=(16,5))\n",
    "\n",
    "ax = fig.add_subplot(1,1,1)\n",
    "ax.set_title('Globally integrated air-sea CO2 flux')\n",
    "ax.plot(years.isel(time=slice(248,310)),ts_global['FG_CO2'].isel(time=slice(248,310)),color='blue', label='control')\n",
    "ax.plot(years.isel(time=slice(248,310)),ts_global['FG_ALT_CO2_noGCB'].isel(time=slice(248,310)),color='red', label='noGCB')\n",
    "ax.plot(years.isel(time=slice(248,310)),ts_global['FG_ALT_CO2_2xGCB'].isel(time=slice(248,310)),color='green', label='2xGCB')\n",
    "ax.plot(years.isel(time=slice(248,310)),ts_global['FG_ALT_CO2_100mDLS'].isel(time=slice(248,310)),color='orange', label='100mDLS')\n",
    "ax.plot(years.isel(time=slice(248,310)),ts_global['FG_ALT_CO2_1000mDLS'].isel(time=slice(248,310)),color='purple', label='1000mDLS')\n",
    "ax.set(ylabel='air-sea CO2 flux (Pg C yr$^{-1}$)',xlabel='year of simulation')\n",
    "ax.legend()"
   ]
  },
  {
   "cell_type": "markdown",
   "metadata": {},
   "source": [
    "### Mean global air-sea CO2 flux over 5th IAF cycle"
   ]
  },
  {
   "cell_type": "code",
   "execution_count": 127,
   "metadata": {},
   "outputs": [],
   "source": [
    "mean_CO2_flux_control = ts_global['FG_CO2'].isel(time=slice(248,310)).mean(dim='time')\n",
    "mean_CO2_flux_noGCB = ts_global['FG_ALT_CO2_noGCB'].isel(time=slice(248,310)).mean(dim='time')\n",
    "mean_CO2_flux_2xGCB = ts_global['FG_ALT_CO2_2xGCB'].isel(time=slice(248,310)).mean(dim='time')\n",
    "mean_CO2_flux_100mDLS = ts_global['FG_ALT_CO2_100mDLS'].isel(time=slice(248,310)).mean(dim='time')\n",
    "mean_CO2_flux_1000mDLS = ts_global['FG_ALT_CO2_1000mDLS'].isel(time=slice(248,310)).mean(dim='time')"
   ]
  },
  {
   "cell_type": "code",
   "execution_count": 128,
   "metadata": {},
   "outputs": [
    {
     "data": {
      "text/plain": [
       "array(-0.14282391)"
      ]
     },
     "execution_count": 128,
     "metadata": {},
     "output_type": "execute_result"
    }
   ],
   "source": [
    "mean_CO2_flux_control.values"
   ]
  },
  {
   "cell_type": "code",
   "execution_count": 129,
   "metadata": {},
   "outputs": [
    {
     "data": {
      "text/plain": [
       "array(-0.24693996)"
      ]
     },
     "execution_count": 129,
     "metadata": {},
     "output_type": "execute_result"
    }
   ],
   "source": [
    "mean_CO2_flux_noGCB.values"
   ]
  },
  {
   "cell_type": "code",
   "execution_count": 130,
   "metadata": {},
   "outputs": [
    {
     "data": {
      "text/plain": [
       "array(-0.03800877)"
      ]
     },
     "execution_count": 130,
     "metadata": {},
     "output_type": "execute_result"
    }
   ],
   "source": [
    "mean_CO2_flux_2xGCB.values"
   ]
  },
  {
   "cell_type": "code",
   "execution_count": 131,
   "metadata": {},
   "outputs": [
    {
     "data": {
      "text/plain": [
       "array(-0.21071536)"
      ]
     },
     "execution_count": 131,
     "metadata": {},
     "output_type": "execute_result"
    }
   ],
   "source": [
    "mean_CO2_flux_100mDLS.values"
   ]
  },
  {
   "cell_type": "code",
   "execution_count": 132,
   "metadata": {},
   "outputs": [
    {
     "data": {
      "text/plain": [
       "array(-0.1104773)"
      ]
     },
     "execution_count": 132,
     "metadata": {},
     "output_type": "execute_result"
    }
   ],
   "source": [
    "mean_CO2_flux_1000mDLS.values"
   ]
  },
  {
   "cell_type": "markdown",
   "metadata": {},
   "source": [
    "#### percent changes"
   ]
  },
  {
   "cell_type": "code",
   "execution_count": 133,
   "metadata": {},
   "outputs": [
    {
     "data": {
      "text/html": [
       "<div><svg style=\"position: absolute; width: 0; height: 0; overflow: hidden\">\n",
       "<defs>\n",
       "<symbol id=\"icon-database\" viewBox=\"0 0 32 32\">\n",
       "<title>Show/Hide data repr</title>\n",
       "<path d=\"M16 0c-8.837 0-16 2.239-16 5v4c0 2.761 7.163 5 16 5s16-2.239 16-5v-4c0-2.761-7.163-5-16-5z\"></path>\n",
       "<path d=\"M16 17c-8.837 0-16-2.239-16-5v6c0 2.761 7.163 5 16 5s16-2.239 16-5v-6c0 2.761-7.163 5-16 5z\"></path>\n",
       "<path d=\"M16 26c-8.837 0-16-2.239-16-5v6c0 2.761 7.163 5 16 5s16-2.239 16-5v-6c0 2.761-7.163 5-16 5z\"></path>\n",
       "</symbol>\n",
       "<symbol id=\"icon-file-text2\" viewBox=\"0 0 32 32\">\n",
       "<title>Show/Hide attributes</title>\n",
       "<path d=\"M28.681 7.159c-0.694-0.947-1.662-2.053-2.724-3.116s-2.169-2.030-3.116-2.724c-1.612-1.182-2.393-1.319-2.841-1.319h-15.5c-1.378 0-2.5 1.121-2.5 2.5v27c0 1.378 1.122 2.5 2.5 2.5h23c1.378 0 2.5-1.122 2.5-2.5v-19.5c0-0.448-0.137-1.23-1.319-2.841zM24.543 5.457c0.959 0.959 1.712 1.825 2.268 2.543h-4.811v-4.811c0.718 0.556 1.584 1.309 2.543 2.268zM28 29.5c0 0.271-0.229 0.5-0.5 0.5h-23c-0.271 0-0.5-0.229-0.5-0.5v-27c0-0.271 0.229-0.5 0.5-0.5 0 0 15.499-0 15.5 0v7c0 0.552 0.448 1 1 1h7v19.5z\"></path>\n",
       "<path d=\"M23 26h-14c-0.552 0-1-0.448-1-1s0.448-1 1-1h14c0.552 0 1 0.448 1 1s-0.448 1-1 1z\"></path>\n",
       "<path d=\"M23 22h-14c-0.552 0-1-0.448-1-1s0.448-1 1-1h14c0.552 0 1 0.448 1 1s-0.448 1-1 1z\"></path>\n",
       "<path d=\"M23 18h-14c-0.552 0-1-0.448-1-1s0.448-1 1-1h14c0.552 0 1 0.448 1 1s-0.448 1-1 1z\"></path>\n",
       "</symbol>\n",
       "</defs>\n",
       "</svg>\n",
       "<style>/* CSS stylesheet for displaying xarray objects in jupyterlab.\n",
       " *\n",
       " */\n",
       "\n",
       ":root {\n",
       "  --xr-font-color0: var(--jp-content-font-color0, rgba(0, 0, 0, 1));\n",
       "  --xr-font-color2: var(--jp-content-font-color2, rgba(0, 0, 0, 0.54));\n",
       "  --xr-font-color3: var(--jp-content-font-color3, rgba(0, 0, 0, 0.38));\n",
       "  --xr-border-color: var(--jp-border-color2, #e0e0e0);\n",
       "  --xr-disabled-color: var(--jp-layout-color3, #bdbdbd);\n",
       "  --xr-background-color: var(--jp-layout-color0, white);\n",
       "  --xr-background-color-row-even: var(--jp-layout-color1, white);\n",
       "  --xr-background-color-row-odd: var(--jp-layout-color2, #eeeeee);\n",
       "}\n",
       "\n",
       ".xr-wrap {\n",
       "  min-width: 300px;\n",
       "  max-width: 700px;\n",
       "}\n",
       "\n",
       ".xr-header {\n",
       "  padding-top: 6px;\n",
       "  padding-bottom: 6px;\n",
       "  margin-bottom: 4px;\n",
       "  border-bottom: solid 1px var(--xr-border-color);\n",
       "}\n",
       "\n",
       ".xr-header > div,\n",
       ".xr-header > ul {\n",
       "  display: inline;\n",
       "  margin-top: 0;\n",
       "  margin-bottom: 0;\n",
       "}\n",
       "\n",
       ".xr-obj-type,\n",
       ".xr-array-name {\n",
       "  margin-left: 2px;\n",
       "  margin-right: 10px;\n",
       "}\n",
       "\n",
       ".xr-obj-type {\n",
       "  color: var(--xr-font-color2);\n",
       "}\n",
       "\n",
       ".xr-sections {\n",
       "  padding-left: 0 !important;\n",
       "  display: grid;\n",
       "  grid-template-columns: 150px auto auto 1fr 20px 20px;\n",
       "}\n",
       "\n",
       ".xr-section-item {\n",
       "  display: contents;\n",
       "}\n",
       "\n",
       ".xr-section-item input {\n",
       "  display: none;\n",
       "}\n",
       "\n",
       ".xr-section-item input + label {\n",
       "  color: var(--xr-disabled-color);\n",
       "}\n",
       "\n",
       ".xr-section-item input:enabled + label {\n",
       "  cursor: pointer;\n",
       "  color: var(--xr-font-color2);\n",
       "}\n",
       "\n",
       ".xr-section-item input:enabled + label:hover {\n",
       "  color: var(--xr-font-color0);\n",
       "}\n",
       "\n",
       ".xr-section-summary {\n",
       "  grid-column: 1;\n",
       "  color: var(--xr-font-color2);\n",
       "  font-weight: 500;\n",
       "}\n",
       "\n",
       ".xr-section-summary > span {\n",
       "  display: inline-block;\n",
       "  padding-left: 0.5em;\n",
       "}\n",
       "\n",
       ".xr-section-summary-in:disabled + label {\n",
       "  color: var(--xr-font-color2);\n",
       "}\n",
       "\n",
       ".xr-section-summary-in + label:before {\n",
       "  display: inline-block;\n",
       "  content: '►';\n",
       "  font-size: 11px;\n",
       "  width: 15px;\n",
       "  text-align: center;\n",
       "}\n",
       "\n",
       ".xr-section-summary-in:disabled + label:before {\n",
       "  color: var(--xr-disabled-color);\n",
       "}\n",
       "\n",
       ".xr-section-summary-in:checked + label:before {\n",
       "  content: '▼';\n",
       "}\n",
       "\n",
       ".xr-section-summary-in:checked + label > span {\n",
       "  display: none;\n",
       "}\n",
       "\n",
       ".xr-section-summary,\n",
       ".xr-section-inline-details {\n",
       "  padding-top: 4px;\n",
       "  padding-bottom: 4px;\n",
       "}\n",
       "\n",
       ".xr-section-inline-details {\n",
       "  grid-column: 2 / -1;\n",
       "}\n",
       "\n",
       ".xr-section-details {\n",
       "  display: none;\n",
       "  grid-column: 1 / -1;\n",
       "  margin-bottom: 5px;\n",
       "}\n",
       "\n",
       ".xr-section-summary-in:checked ~ .xr-section-details {\n",
       "  display: contents;\n",
       "}\n",
       "\n",
       ".xr-array-wrap {\n",
       "  grid-column: 1 / -1;\n",
       "  display: grid;\n",
       "  grid-template-columns: 20px auto;\n",
       "}\n",
       "\n",
       ".xr-array-wrap > label {\n",
       "  grid-column: 1;\n",
       "  vertical-align: top;\n",
       "}\n",
       "\n",
       ".xr-preview {\n",
       "  color: var(--xr-font-color3);\n",
       "}\n",
       "\n",
       ".xr-array-preview,\n",
       ".xr-array-data {\n",
       "  padding: 0 5px !important;\n",
       "  grid-column: 2;\n",
       "}\n",
       "\n",
       ".xr-array-data,\n",
       ".xr-array-in:checked ~ .xr-array-preview {\n",
       "  display: none;\n",
       "}\n",
       "\n",
       ".xr-array-in:checked ~ .xr-array-data,\n",
       ".xr-array-preview {\n",
       "  display: inline-block;\n",
       "}\n",
       "\n",
       ".xr-dim-list {\n",
       "  display: inline-block !important;\n",
       "  list-style: none;\n",
       "  padding: 0 !important;\n",
       "  margin: 0;\n",
       "}\n",
       "\n",
       ".xr-dim-list li {\n",
       "  display: inline-block;\n",
       "  padding: 0;\n",
       "  margin: 0;\n",
       "}\n",
       "\n",
       ".xr-dim-list:before {\n",
       "  content: '(';\n",
       "}\n",
       "\n",
       ".xr-dim-list:after {\n",
       "  content: ')';\n",
       "}\n",
       "\n",
       ".xr-dim-list li:not(:last-child):after {\n",
       "  content: ',';\n",
       "  padding-right: 5px;\n",
       "}\n",
       "\n",
       ".xr-has-index {\n",
       "  font-weight: bold;\n",
       "}\n",
       "\n",
       ".xr-var-list,\n",
       ".xr-var-item {\n",
       "  display: contents;\n",
       "}\n",
       "\n",
       ".xr-var-item > div,\n",
       ".xr-var-item label,\n",
       ".xr-var-item > .xr-var-name span {\n",
       "  background-color: var(--xr-background-color-row-even);\n",
       "  margin-bottom: 0;\n",
       "}\n",
       "\n",
       ".xr-var-item > .xr-var-name:hover span {\n",
       "  padding-right: 5px;\n",
       "}\n",
       "\n",
       ".xr-var-list > li:nth-child(odd) > div,\n",
       ".xr-var-list > li:nth-child(odd) > label,\n",
       ".xr-var-list > li:nth-child(odd) > .xr-var-name span {\n",
       "  background-color: var(--xr-background-color-row-odd);\n",
       "}\n",
       "\n",
       ".xr-var-name {\n",
       "  grid-column: 1;\n",
       "}\n",
       "\n",
       ".xr-var-dims {\n",
       "  grid-column: 2;\n",
       "}\n",
       "\n",
       ".xr-var-dtype {\n",
       "  grid-column: 3;\n",
       "  text-align: right;\n",
       "  color: var(--xr-font-color2);\n",
       "}\n",
       "\n",
       ".xr-var-preview {\n",
       "  grid-column: 4;\n",
       "}\n",
       "\n",
       ".xr-var-name,\n",
       ".xr-var-dims,\n",
       ".xr-var-dtype,\n",
       ".xr-preview,\n",
       ".xr-attrs dt {\n",
       "  white-space: nowrap;\n",
       "  overflow: hidden;\n",
       "  text-overflow: ellipsis;\n",
       "  padding-right: 10px;\n",
       "}\n",
       "\n",
       ".xr-var-name:hover,\n",
       ".xr-var-dims:hover,\n",
       ".xr-var-dtype:hover,\n",
       ".xr-attrs dt:hover {\n",
       "  overflow: visible;\n",
       "  width: auto;\n",
       "  z-index: 1;\n",
       "}\n",
       "\n",
       ".xr-var-attrs,\n",
       ".xr-var-data {\n",
       "  display: none;\n",
       "  background-color: var(--xr-background-color) !important;\n",
       "  padding-bottom: 5px !important;\n",
       "}\n",
       "\n",
       ".xr-var-attrs-in:checked ~ .xr-var-attrs,\n",
       ".xr-var-data-in:checked ~ .xr-var-data {\n",
       "  display: block;\n",
       "}\n",
       "\n",
       ".xr-var-data > table {\n",
       "  float: right;\n",
       "}\n",
       "\n",
       ".xr-var-name span,\n",
       ".xr-var-data,\n",
       ".xr-attrs {\n",
       "  padding-left: 25px !important;\n",
       "}\n",
       "\n",
       ".xr-attrs,\n",
       ".xr-var-attrs,\n",
       ".xr-var-data {\n",
       "  grid-column: 1 / -1;\n",
       "}\n",
       "\n",
       "dl.xr-attrs {\n",
       "  padding: 0;\n",
       "  margin: 0;\n",
       "  display: grid;\n",
       "  grid-template-columns: 125px auto;\n",
       "}\n",
       "\n",
       ".xr-attrs dt, dd {\n",
       "  padding: 0;\n",
       "  margin: 0;\n",
       "  float: left;\n",
       "  padding-right: 10px;\n",
       "  width: auto;\n",
       "}\n",
       "\n",
       ".xr-attrs dt {\n",
       "  font-weight: normal;\n",
       "  grid-column: 1;\n",
       "}\n",
       "\n",
       ".xr-attrs dt:hover span {\n",
       "  display: inline-block;\n",
       "  background: var(--xr-background-color);\n",
       "  padding-right: 10px;\n",
       "}\n",
       "\n",
       ".xr-attrs dd {\n",
       "  grid-column: 2;\n",
       "  white-space: pre-wrap;\n",
       "  word-break: break-all;\n",
       "}\n",
       "\n",
       ".xr-icon-database,\n",
       ".xr-icon-file-text2 {\n",
       "  display: inline-block;\n",
       "  vertical-align: middle;\n",
       "  width: 1em;\n",
       "  height: 1.5em !important;\n",
       "  stroke-width: 0;\n",
       "  stroke: currentColor;\n",
       "  fill: currentColor;\n",
       "}\n",
       "</style><div class='xr-wrap'><div class='xr-header'><div class='xr-obj-type'>xarray.DataArray</div><div class='xr-array-name'></div></div><ul class='xr-sections'><li class='xr-section-item'><div class='xr-array-wrap'><input id='section-0333829b-e495-4d4f-ade9-cd106e319b8a' class='xr-array-in' type='checkbox' ><label for='section-0333829b-e495-4d4f-ade9-cd106e319b8a' title='Show/hide data repr'><svg class='icon xr-icon-database'><use xlink:href='#icon-database'></use></svg></label><div class='xr-array-preview xr-preview'><span>72.9</span></div><pre class='xr-array-data'>array(72.89819048)</pre></div></li><li class='xr-section-item'><input id='section-601d446d-3664-4eb4-a2d1-aa740a469a51' class='xr-section-summary-in' type='checkbox' disabled ><label for='section-601d446d-3664-4eb4-a2d1-aa740a469a51' class='xr-section-summary'  title='Expand/collapse section'>Coordinates: <span>(0)</span></label><div class='xr-section-inline-details'></div><div class='xr-section-details'><ul class='xr-var-list'></ul></div></li><li class='xr-section-item'><input id='section-f0843b11-42d7-435f-bd67-813f541ac1f0' class='xr-section-summary-in' type='checkbox' disabled ><label for='section-f0843b11-42d7-435f-bd67-813f541ac1f0' class='xr-section-summary'  title='Expand/collapse section'>Attributes: <span>(0)</span></label><div class='xr-section-inline-details'></div><div class='xr-section-details'><dl class='xr-attrs'></dl></div></li></ul></div></div>"
      ],
      "text/plain": [
       "<xarray.DataArray ()>\n",
       "array(72.89819048)"
      ]
     },
     "execution_count": 133,
     "metadata": {},
     "output_type": "execute_result"
    }
   ],
   "source": [
    "## % change for noGCB run\n",
    "(mean_CO2_flux_noGCB - mean_CO2_flux_control)/mean_CO2_flux_control * 100."
   ]
  },
  {
   "cell_type": "code",
   "execution_count": 134,
   "metadata": {},
   "outputs": [
    {
     "data": {
      "text/html": [
       "<div><svg style=\"position: absolute; width: 0; height: 0; overflow: hidden\">\n",
       "<defs>\n",
       "<symbol id=\"icon-database\" viewBox=\"0 0 32 32\">\n",
       "<title>Show/Hide data repr</title>\n",
       "<path d=\"M16 0c-8.837 0-16 2.239-16 5v4c0 2.761 7.163 5 16 5s16-2.239 16-5v-4c0-2.761-7.163-5-16-5z\"></path>\n",
       "<path d=\"M16 17c-8.837 0-16-2.239-16-5v6c0 2.761 7.163 5 16 5s16-2.239 16-5v-6c0 2.761-7.163 5-16 5z\"></path>\n",
       "<path d=\"M16 26c-8.837 0-16-2.239-16-5v6c0 2.761 7.163 5 16 5s16-2.239 16-5v-6c0 2.761-7.163 5-16 5z\"></path>\n",
       "</symbol>\n",
       "<symbol id=\"icon-file-text2\" viewBox=\"0 0 32 32\">\n",
       "<title>Show/Hide attributes</title>\n",
       "<path d=\"M28.681 7.159c-0.694-0.947-1.662-2.053-2.724-3.116s-2.169-2.030-3.116-2.724c-1.612-1.182-2.393-1.319-2.841-1.319h-15.5c-1.378 0-2.5 1.121-2.5 2.5v27c0 1.378 1.122 2.5 2.5 2.5h23c1.378 0 2.5-1.122 2.5-2.5v-19.5c0-0.448-0.137-1.23-1.319-2.841zM24.543 5.457c0.959 0.959 1.712 1.825 2.268 2.543h-4.811v-4.811c0.718 0.556 1.584 1.309 2.543 2.268zM28 29.5c0 0.271-0.229 0.5-0.5 0.5h-23c-0.271 0-0.5-0.229-0.5-0.5v-27c0-0.271 0.229-0.5 0.5-0.5 0 0 15.499-0 15.5 0v7c0 0.552 0.448 1 1 1h7v19.5z\"></path>\n",
       "<path d=\"M23 26h-14c-0.552 0-1-0.448-1-1s0.448-1 1-1h14c0.552 0 1 0.448 1 1s-0.448 1-1 1z\"></path>\n",
       "<path d=\"M23 22h-14c-0.552 0-1-0.448-1-1s0.448-1 1-1h14c0.552 0 1 0.448 1 1s-0.448 1-1 1z\"></path>\n",
       "<path d=\"M23 18h-14c-0.552 0-1-0.448-1-1s0.448-1 1-1h14c0.552 0 1 0.448 1 1s-0.448 1-1 1z\"></path>\n",
       "</symbol>\n",
       "</defs>\n",
       "</svg>\n",
       "<style>/* CSS stylesheet for displaying xarray objects in jupyterlab.\n",
       " *\n",
       " */\n",
       "\n",
       ":root {\n",
       "  --xr-font-color0: var(--jp-content-font-color0, rgba(0, 0, 0, 1));\n",
       "  --xr-font-color2: var(--jp-content-font-color2, rgba(0, 0, 0, 0.54));\n",
       "  --xr-font-color3: var(--jp-content-font-color3, rgba(0, 0, 0, 0.38));\n",
       "  --xr-border-color: var(--jp-border-color2, #e0e0e0);\n",
       "  --xr-disabled-color: var(--jp-layout-color3, #bdbdbd);\n",
       "  --xr-background-color: var(--jp-layout-color0, white);\n",
       "  --xr-background-color-row-even: var(--jp-layout-color1, white);\n",
       "  --xr-background-color-row-odd: var(--jp-layout-color2, #eeeeee);\n",
       "}\n",
       "\n",
       ".xr-wrap {\n",
       "  min-width: 300px;\n",
       "  max-width: 700px;\n",
       "}\n",
       "\n",
       ".xr-header {\n",
       "  padding-top: 6px;\n",
       "  padding-bottom: 6px;\n",
       "  margin-bottom: 4px;\n",
       "  border-bottom: solid 1px var(--xr-border-color);\n",
       "}\n",
       "\n",
       ".xr-header > div,\n",
       ".xr-header > ul {\n",
       "  display: inline;\n",
       "  margin-top: 0;\n",
       "  margin-bottom: 0;\n",
       "}\n",
       "\n",
       ".xr-obj-type,\n",
       ".xr-array-name {\n",
       "  margin-left: 2px;\n",
       "  margin-right: 10px;\n",
       "}\n",
       "\n",
       ".xr-obj-type {\n",
       "  color: var(--xr-font-color2);\n",
       "}\n",
       "\n",
       ".xr-sections {\n",
       "  padding-left: 0 !important;\n",
       "  display: grid;\n",
       "  grid-template-columns: 150px auto auto 1fr 20px 20px;\n",
       "}\n",
       "\n",
       ".xr-section-item {\n",
       "  display: contents;\n",
       "}\n",
       "\n",
       ".xr-section-item input {\n",
       "  display: none;\n",
       "}\n",
       "\n",
       ".xr-section-item input + label {\n",
       "  color: var(--xr-disabled-color);\n",
       "}\n",
       "\n",
       ".xr-section-item input:enabled + label {\n",
       "  cursor: pointer;\n",
       "  color: var(--xr-font-color2);\n",
       "}\n",
       "\n",
       ".xr-section-item input:enabled + label:hover {\n",
       "  color: var(--xr-font-color0);\n",
       "}\n",
       "\n",
       ".xr-section-summary {\n",
       "  grid-column: 1;\n",
       "  color: var(--xr-font-color2);\n",
       "  font-weight: 500;\n",
       "}\n",
       "\n",
       ".xr-section-summary > span {\n",
       "  display: inline-block;\n",
       "  padding-left: 0.5em;\n",
       "}\n",
       "\n",
       ".xr-section-summary-in:disabled + label {\n",
       "  color: var(--xr-font-color2);\n",
       "}\n",
       "\n",
       ".xr-section-summary-in + label:before {\n",
       "  display: inline-block;\n",
       "  content: '►';\n",
       "  font-size: 11px;\n",
       "  width: 15px;\n",
       "  text-align: center;\n",
       "}\n",
       "\n",
       ".xr-section-summary-in:disabled + label:before {\n",
       "  color: var(--xr-disabled-color);\n",
       "}\n",
       "\n",
       ".xr-section-summary-in:checked + label:before {\n",
       "  content: '▼';\n",
       "}\n",
       "\n",
       ".xr-section-summary-in:checked + label > span {\n",
       "  display: none;\n",
       "}\n",
       "\n",
       ".xr-section-summary,\n",
       ".xr-section-inline-details {\n",
       "  padding-top: 4px;\n",
       "  padding-bottom: 4px;\n",
       "}\n",
       "\n",
       ".xr-section-inline-details {\n",
       "  grid-column: 2 / -1;\n",
       "}\n",
       "\n",
       ".xr-section-details {\n",
       "  display: none;\n",
       "  grid-column: 1 / -1;\n",
       "  margin-bottom: 5px;\n",
       "}\n",
       "\n",
       ".xr-section-summary-in:checked ~ .xr-section-details {\n",
       "  display: contents;\n",
       "}\n",
       "\n",
       ".xr-array-wrap {\n",
       "  grid-column: 1 / -1;\n",
       "  display: grid;\n",
       "  grid-template-columns: 20px auto;\n",
       "}\n",
       "\n",
       ".xr-array-wrap > label {\n",
       "  grid-column: 1;\n",
       "  vertical-align: top;\n",
       "}\n",
       "\n",
       ".xr-preview {\n",
       "  color: var(--xr-font-color3);\n",
       "}\n",
       "\n",
       ".xr-array-preview,\n",
       ".xr-array-data {\n",
       "  padding: 0 5px !important;\n",
       "  grid-column: 2;\n",
       "}\n",
       "\n",
       ".xr-array-data,\n",
       ".xr-array-in:checked ~ .xr-array-preview {\n",
       "  display: none;\n",
       "}\n",
       "\n",
       ".xr-array-in:checked ~ .xr-array-data,\n",
       ".xr-array-preview {\n",
       "  display: inline-block;\n",
       "}\n",
       "\n",
       ".xr-dim-list {\n",
       "  display: inline-block !important;\n",
       "  list-style: none;\n",
       "  padding: 0 !important;\n",
       "  margin: 0;\n",
       "}\n",
       "\n",
       ".xr-dim-list li {\n",
       "  display: inline-block;\n",
       "  padding: 0;\n",
       "  margin: 0;\n",
       "}\n",
       "\n",
       ".xr-dim-list:before {\n",
       "  content: '(';\n",
       "}\n",
       "\n",
       ".xr-dim-list:after {\n",
       "  content: ')';\n",
       "}\n",
       "\n",
       ".xr-dim-list li:not(:last-child):after {\n",
       "  content: ',';\n",
       "  padding-right: 5px;\n",
       "}\n",
       "\n",
       ".xr-has-index {\n",
       "  font-weight: bold;\n",
       "}\n",
       "\n",
       ".xr-var-list,\n",
       ".xr-var-item {\n",
       "  display: contents;\n",
       "}\n",
       "\n",
       ".xr-var-item > div,\n",
       ".xr-var-item label,\n",
       ".xr-var-item > .xr-var-name span {\n",
       "  background-color: var(--xr-background-color-row-even);\n",
       "  margin-bottom: 0;\n",
       "}\n",
       "\n",
       ".xr-var-item > .xr-var-name:hover span {\n",
       "  padding-right: 5px;\n",
       "}\n",
       "\n",
       ".xr-var-list > li:nth-child(odd) > div,\n",
       ".xr-var-list > li:nth-child(odd) > label,\n",
       ".xr-var-list > li:nth-child(odd) > .xr-var-name span {\n",
       "  background-color: var(--xr-background-color-row-odd);\n",
       "}\n",
       "\n",
       ".xr-var-name {\n",
       "  grid-column: 1;\n",
       "}\n",
       "\n",
       ".xr-var-dims {\n",
       "  grid-column: 2;\n",
       "}\n",
       "\n",
       ".xr-var-dtype {\n",
       "  grid-column: 3;\n",
       "  text-align: right;\n",
       "  color: var(--xr-font-color2);\n",
       "}\n",
       "\n",
       ".xr-var-preview {\n",
       "  grid-column: 4;\n",
       "}\n",
       "\n",
       ".xr-var-name,\n",
       ".xr-var-dims,\n",
       ".xr-var-dtype,\n",
       ".xr-preview,\n",
       ".xr-attrs dt {\n",
       "  white-space: nowrap;\n",
       "  overflow: hidden;\n",
       "  text-overflow: ellipsis;\n",
       "  padding-right: 10px;\n",
       "}\n",
       "\n",
       ".xr-var-name:hover,\n",
       ".xr-var-dims:hover,\n",
       ".xr-var-dtype:hover,\n",
       ".xr-attrs dt:hover {\n",
       "  overflow: visible;\n",
       "  width: auto;\n",
       "  z-index: 1;\n",
       "}\n",
       "\n",
       ".xr-var-attrs,\n",
       ".xr-var-data {\n",
       "  display: none;\n",
       "  background-color: var(--xr-background-color) !important;\n",
       "  padding-bottom: 5px !important;\n",
       "}\n",
       "\n",
       ".xr-var-attrs-in:checked ~ .xr-var-attrs,\n",
       ".xr-var-data-in:checked ~ .xr-var-data {\n",
       "  display: block;\n",
       "}\n",
       "\n",
       ".xr-var-data > table {\n",
       "  float: right;\n",
       "}\n",
       "\n",
       ".xr-var-name span,\n",
       ".xr-var-data,\n",
       ".xr-attrs {\n",
       "  padding-left: 25px !important;\n",
       "}\n",
       "\n",
       ".xr-attrs,\n",
       ".xr-var-attrs,\n",
       ".xr-var-data {\n",
       "  grid-column: 1 / -1;\n",
       "}\n",
       "\n",
       "dl.xr-attrs {\n",
       "  padding: 0;\n",
       "  margin: 0;\n",
       "  display: grid;\n",
       "  grid-template-columns: 125px auto;\n",
       "}\n",
       "\n",
       ".xr-attrs dt, dd {\n",
       "  padding: 0;\n",
       "  margin: 0;\n",
       "  float: left;\n",
       "  padding-right: 10px;\n",
       "  width: auto;\n",
       "}\n",
       "\n",
       ".xr-attrs dt {\n",
       "  font-weight: normal;\n",
       "  grid-column: 1;\n",
       "}\n",
       "\n",
       ".xr-attrs dt:hover span {\n",
       "  display: inline-block;\n",
       "  background: var(--xr-background-color);\n",
       "  padding-right: 10px;\n",
       "}\n",
       "\n",
       ".xr-attrs dd {\n",
       "  grid-column: 2;\n",
       "  white-space: pre-wrap;\n",
       "  word-break: break-all;\n",
       "}\n",
       "\n",
       ".xr-icon-database,\n",
       ".xr-icon-file-text2 {\n",
       "  display: inline-block;\n",
       "  vertical-align: middle;\n",
       "  width: 1em;\n",
       "  height: 1.5em !important;\n",
       "  stroke-width: 0;\n",
       "  stroke: currentColor;\n",
       "  fill: currentColor;\n",
       "}\n",
       "</style><div class='xr-wrap'><div class='xr-header'><div class='xr-obj-type'>xarray.DataArray</div><div class='xr-array-name'></div></div><ul class='xr-sections'><li class='xr-section-item'><div class='xr-array-wrap'><input id='section-bdb815e2-4135-4bc8-bc5c-b38f8ff48648' class='xr-array-in' type='checkbox' ><label for='section-bdb815e2-4135-4bc8-bc5c-b38f8ff48648' title='Show/hide data repr'><svg class='icon xr-icon-database'><use xlink:href='#icon-database'></use></svg></label><div class='xr-array-preview xr-preview'><span>-73.39</span></div><pre class='xr-array-data'>array(-73.3876692)</pre></div></li><li class='xr-section-item'><input id='section-002886be-bee6-4414-93af-a897503365e0' class='xr-section-summary-in' type='checkbox' disabled ><label for='section-002886be-bee6-4414-93af-a897503365e0' class='xr-section-summary'  title='Expand/collapse section'>Coordinates: <span>(0)</span></label><div class='xr-section-inline-details'></div><div class='xr-section-details'><ul class='xr-var-list'></ul></div></li><li class='xr-section-item'><input id='section-fd58861b-fc31-4f5b-8fcb-9f8acc28cb0b' class='xr-section-summary-in' type='checkbox' disabled ><label for='section-fd58861b-fc31-4f5b-8fcb-9f8acc28cb0b' class='xr-section-summary'  title='Expand/collapse section'>Attributes: <span>(0)</span></label><div class='xr-section-inline-details'></div><div class='xr-section-details'><dl class='xr-attrs'></dl></div></li></ul></div></div>"
      ],
      "text/plain": [
       "<xarray.DataArray ()>\n",
       "array(-73.3876692)"
      ]
     },
     "execution_count": 134,
     "metadata": {},
     "output_type": "execute_result"
    }
   ],
   "source": [
    "## % change for 2xGCB run\n",
    "(mean_CO2_flux_2xGCB - mean_CO2_flux_control)/mean_CO2_flux_control * 100."
   ]
  }
 ],
 "metadata": {
  "kernelspec": {
   "display_name": "Python [conda env:miniconda-besome]",
   "language": "python",
   "name": "conda-env-miniconda-besome-py"
  },
  "language_info": {
   "codemirror_mode": {
    "name": "ipython",
    "version": 3
   },
   "file_extension": ".py",
   "mimetype": "text/x-python",
   "name": "python",
   "nbconvert_exporter": "python",
   "pygments_lexer": "ipython3",
   "version": "3.7.6"
  }
 },
 "nbformat": 4,
 "nbformat_minor": 4
}
