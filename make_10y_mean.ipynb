{
 "cells": [
  {
   "cell_type": "markdown",
   "metadata": {},
   "source": [
    "### 10 yr mean"
   ]
  },
  {
   "cell_type": "code",
   "execution_count": 2,
   "metadata": {},
   "outputs": [
    {
     "name": "stderr",
     "output_type": "stream",
     "text": [
      "Cannot write to data cache folder '/glade/p/cesmdata/cseg'. Will not be able to download remote data files. Use environment variable 'CESMDATAROOT' to specify another directory.\n"
     ]
    }
   ],
   "source": [
    "import warnings\n",
    "warnings.filterwarnings('ignore')\n",
    "%matplotlib inline\n",
    "import os\n",
    "from glob import glob\n",
    "from collections import OrderedDict\n",
    "import xarray as xr\n",
    "import numpy as np\n",
    "import esmlab\n",
    "import matplotlib.pyplot as plt\n",
    "import matplotlib.gridspec as gridspec\n",
    "import cartopy\n",
    "import cartopy.crs as ccrs\n",
    "import seawater as sw\n",
    "from seawater.library import T90conv\n",
    "from scipy import stats\n",
    "import pop_tools \n",
    "\n",
    "from pint import UnitRegistry\n",
    "import utils\n",
    "import ncar_jobqueue\n",
    "from dask.distributed import Client\n",
    "\n",
    "units = UnitRegistry()\n",
    "units.define('micromoles_per_kilogram = umol / kg') # used in WOA datasets"
   ]
  },
  {
   "cell_type": "code",
   "execution_count": 3,
   "metadata": {},
   "outputs": [],
   "source": [
    "# cluster = ncar_jobqueue.NCARCluster(project='ncgd0011')\n",
    "# cluster.adapt(minimum_jobs=0, maximum_jobs=30)\n",
    "# client = Client(cluster)\n",
    "# client"
   ]
  },
  {
   "cell_type": "code",
   "execution_count": null,
   "metadata": {},
   "outputs": [],
   "source": []
  },
  {
   "cell_type": "markdown",
   "metadata": {},
   "source": [
    "### MONTHLY"
   ]
  },
  {
   "cell_type": "markdown",
   "metadata": {},
   "source": [
    "#### Define CESM case and variable"
   ]
  },
  {
   "cell_type": "code",
   "execution_count": 12,
   "metadata": {},
   "outputs": [],
   "source": [
    "case = 'cesm22cocco.G1850ECOIAF.T62_g17.006'\n",
    "user = 'kristenk'\n",
    "path = '/glade/scratch/kristenk/archive/' + case + '/ocn/proc/tseries/month_1'\n",
    "#path = '/glade/campaign/cgd/oce/projects/besome/cesm-cases/' + case + '/ocn/proc/tseries/month_1'\n",
    "variables = ['FG_ALT_CO2']"
   ]
  },
  {
   "cell_type": "markdown",
   "metadata": {},
   "source": [
    "#### Get tseries files"
   ]
  },
  {
   "cell_type": "code",
   "execution_count": 13,
   "metadata": {},
   "outputs": [
    {
     "name": "stdout",
     "output_type": "stream",
     "text": [
      "reading cesm22cocco.G1850ECOIAF.T62_g17.006\n",
      "FG_ALT_CO2\n",
      "CPU times: user 91.2 ms, sys: 27.4 ms, total: 119 ms\n",
      "Wall time: 283 ms\n"
     ]
    }
   ],
   "source": [
    "%%time\n",
    "ds_list = []\n",
    "print(f'reading {case}')\n",
    "ds = xr.Dataset()\n",
    "\n",
    "for v in variables:\n",
    "    \n",
    "    print(v)\n",
    "    \n",
    "    files = sorted(glob(f'{path}/{case}.pop.h.{v}.031101-033012.nc'))       \n",
    "  \n",
    "    \n",
    "    \n",
    "    dsv=xr.open_mfdataset(files, data_vars=\"minimal\", coords='minimal', compat=\"override\", parallel=True, concat_dim=\"time\",\n",
    "                       drop_variables=[\"transport_components\", \"transport_regions\"], decode_times=True, chunks={'z_t' : 1})\n",
    "\n",
    "    ds = xr.merge((ds, dsv))\n",
    "    ds_list.append(ds)"
   ]
  },
  {
   "cell_type": "code",
   "execution_count": 14,
   "metadata": {},
   "outputs": [],
   "source": [
    "coords = {'x':'TLONG','y':'TLAT'}\n",
    "keepthese=['z_t','time_bound','TAREA','REGION_MASK'] + variables\n",
    "keep_vars = keepthese +list(coords.values())+['dz','KMT']\n",
    "ds = ds.drop([v for v in ds.variables if v not in keep_vars])"
   ]
  },
  {
   "cell_type": "code",
   "execution_count": 15,
   "metadata": {},
   "outputs": [
    {
     "name": "stdout",
     "output_type": "stream",
     "text": [
      "CPU times: user 683 ms, sys: 154 ms, total: 836 ms\n",
      "Wall time: 843 ms\n"
     ]
    }
   ],
   "source": [
    "%%time \n",
    "cesm_ann_ds=ds.isel(time=slice(120,240)).mean(dim='time').compute()"
   ]
  },
  {
   "cell_type": "code",
   "execution_count": 17,
   "metadata": {},
   "outputs": [],
   "source": [
    "for v in variables:\n",
    "    outfile='/glade/scratch/kristenk/archive/'+case+'/ocn/proc/mean_last10yr/mean_last10yr_'+v+'.nc'\n",
    "    cesm_ann_ds[v].to_netcdf(outfile)"
   ]
  },
  {
   "cell_type": "markdown",
   "metadata": {},
   "source": [
    "### ANNUAL"
   ]
  },
  {
   "cell_type": "code",
   "execution_count": 8,
   "metadata": {},
   "outputs": [],
   "source": [
    "case = 'cesm22cocco.G1850ECOIAF.T62_g17.003'\n",
    "#path = '/glade/scratch/kristenk/archive/' + case + '/ocn/proc/tseries/year_1'\n",
    "path = '/glade/campaign/cgd/oce/projects/besome/cesm-cases/' + case + '/ocn/proc/tseries/year_1'\n",
    "variables = ['CaCO3_FLUX_IN','CaCO3_REMIN'] "
   ]
  },
  {
   "cell_type": "code",
   "execution_count": 9,
   "metadata": {},
   "outputs": [
    {
     "name": "stdout",
     "output_type": "stream",
     "text": [
      "reading cesm22cocco.G1850ECOIAF.T62_g17.003\n",
      "CaCO3_FLUX_IN\n",
      "CaCO3_REMIN\n",
      "CPU times: user 843 ms, sys: 121 ms, total: 964 ms\n",
      "Wall time: 6.39 s\n"
     ]
    }
   ],
   "source": [
    "%%time\n",
    "\n",
    "ds_list = []\n",
    "\n",
    "print(f'reading {case}')\n",
    "\n",
    "ds = xr.Dataset()\n",
    "\n",
    "for v in variables:\n",
    "    \n",
    "    print(v)\n",
    "    \n",
    "    files = sorted(glob(f'{path}/{case}.pop.h.ecosys.nyear1.{v}.0249-0310.nc'))\n",
    "\n",
    "    dsv=xr.open_mfdataset(files, data_vars=\"minimal\", coords='minimal', compat=\"override\", parallel=True, concat_dim=\"time\",\n",
    "                       drop_variables=[\"transport_components\", \"transport_regions\"], decode_times=True)\n",
    "\n",
    "    \n",
    "    ds = xr.merge((ds, dsv))\n",
    "    ds_list.append(ds)"
   ]
  },
  {
   "cell_type": "code",
   "execution_count": 10,
   "metadata": {},
   "outputs": [],
   "source": [
    "coords = {'x':'TLONG','y':'TLAT'}\n",
    "keepthese=['z_t','z_t_150m','time_bound','TAREA','REGION_MASK'] + variables\n",
    "keep_vars = keepthese +list(coords.values())+['dz','KMT']\n",
    "ds = ds.drop([v for v in ds.variables if v not in keep_vars])"
   ]
  },
  {
   "cell_type": "code",
   "execution_count": 11,
   "metadata": {},
   "outputs": [],
   "source": [
    "ds=ds.mean(dim='time')"
   ]
  },
  {
   "cell_type": "code",
   "execution_count": 12,
   "metadata": {},
   "outputs": [],
   "source": [
    "for v in variables:\n",
    "        outfile='/glade/scratch/kristenk/archive/'+case+'/ocn/proc/mean5thIAF/mean_IAF5_'+v+'.nc'\n",
    "        ds[v].to_netcdf(outfile)"
   ]
  },
  {
   "cell_type": "code",
   "execution_count": null,
   "metadata": {},
   "outputs": [],
   "source": []
  },
  {
   "cell_type": "code",
   "execution_count": null,
   "metadata": {},
   "outputs": [],
   "source": []
  },
  {
   "cell_type": "code",
   "execution_count": null,
   "metadata": {},
   "outputs": [],
   "source": []
  },
  {
   "cell_type": "code",
   "execution_count": null,
   "metadata": {},
   "outputs": [],
   "source": []
  },
  {
   "cell_type": "code",
   "execution_count": null,
   "metadata": {},
   "outputs": [],
   "source": []
  },
  {
   "cell_type": "code",
   "execution_count": null,
   "metadata": {},
   "outputs": [],
   "source": []
  },
  {
   "cell_type": "code",
   "execution_count": null,
   "metadata": {},
   "outputs": [],
   "source": []
  },
  {
   "cell_type": "code",
   "execution_count": null,
   "metadata": {},
   "outputs": [],
   "source": []
  }
 ],
 "metadata": {
  "kernelspec": {
   "display_name": "Python [conda env:miniconda-besome]",
   "language": "python",
   "name": "conda-env-miniconda-besome-py"
  },
  "language_info": {
   "codemirror_mode": {
    "name": "ipython",
    "version": 3
   },
   "file_extension": ".py",
   "mimetype": "text/x-python",
   "name": "python",
   "nbconvert_exporter": "python",
   "pygments_lexer": "ipython3",
   "version": "3.7.6"
  }
 },
 "nbformat": 4,
 "nbformat_minor": 4
}
